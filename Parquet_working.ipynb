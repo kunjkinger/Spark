{
 "cells": [
  {
   "cell_type": "code",
   "execution_count": 1,
   "id": "bf8cd69d",
   "metadata": {},
   "outputs": [],
   "source": [
    "from pyspark.sql import *"
   ]
  },
  {
   "cell_type": "code",
   "execution_count": 2,
   "id": "e1935d6d",
   "metadata": {},
   "outputs": [],
   "source": [
    "from pyspark.sql.functions import *"
   ]
  },
  {
   "cell_type": "code",
   "execution_count": 3,
   "id": "2d4e4ab5",
   "metadata": {},
   "outputs": [],
   "source": [
    "spark = SparkSession.builder.appName(\"parquet_reading\").getOrCreate()"
   ]
  },
  {
   "cell_type": "code",
   "execution_count": 13,
   "id": "e2095668",
   "metadata": {},
   "outputs": [],
   "source": [
    "df = spark.read.parquet(r\"C:/Users/Kunj.Kinger/Desktop/spark/data/parquet/df_test.parquet\")"
   ]
  },
  {
   "cell_type": "code",
   "execution_count": 14,
   "id": "db83299a",
   "metadata": {},
   "outputs": [
    {
     "data": {
      "text/plain": [
       "['id', 'onpromotion', 'store_nbr', 'item_nbr', 'date']"
      ]
     },
     "execution_count": 14,
     "metadata": {},
     "output_type": "execute_result"
    }
   ],
   "source": [
    "df.columns"
   ]
  },
  {
   "cell_type": "code",
   "execution_count": 6,
   "id": "457ae8d9",
   "metadata": {},
   "outputs": [
    {
     "data": {
      "text/plain": [
       "3370464"
      ]
     },
     "execution_count": 6,
     "metadata": {},
     "output_type": "execute_result"
    }
   ],
   "source": [
    "df.count()"
   ]
  },
  {
   "cell_type": "code",
   "execution_count": 7,
   "id": "6153471a",
   "metadata": {},
   "outputs": [
    {
     "name": "stdout",
     "output_type": "stream",
     "text": [
      "root\n",
      " |-- id: long (nullable = true)\n",
      " |-- onpromotion: boolean (nullable = true)\n",
      " |-- store_nbr: long (nullable = true)\n",
      " |-- item_nbr: long (nullable = true)\n",
      " |-- date: timestamp (nullable = true)\n",
      "\n"
     ]
    }
   ],
   "source": [
    "df.printSchema()"
   ]
  },
  {
   "cell_type": "code",
   "execution_count": 8,
   "id": "e2c93a0f",
   "metadata": {},
   "outputs": [
    {
     "data": {
      "text/plain": [
       "3901"
      ]
     },
     "execution_count": 8,
     "metadata": {},
     "output_type": "execute_result"
    }
   ],
   "source": [
    "df.select(\"item_nbr\").distinct().count()"
   ]
  },
  {
   "cell_type": "code",
   "execution_count": 9,
   "id": "b1eb090c",
   "metadata": {},
   "outputs": [],
   "source": [
    "item_nbr = df.select(\"item_nbr\",\"date\")"
   ]
  },
  {
   "cell_type": "code",
   "execution_count": 10,
   "id": "e1186590",
   "metadata": {},
   "outputs": [
    {
     "data": {
      "text/plain": [
       "3901"
      ]
     },
     "execution_count": 10,
     "metadata": {},
     "output_type": "execute_result"
    }
   ],
   "source": [
    "item_nbr.select(\"item_nbr\").distinct().count()"
   ]
  },
  {
   "cell_type": "code",
   "execution_count": 15,
   "id": "b62d97ca",
   "metadata": {},
   "outputs": [],
   "source": [
    "df = df.select('id', 'onpromotion', 'store_nbr', 'item_nbr',col(\"date\"), \n",
    "     year(col(\"date\")).alias(\"year\"), \n",
    "     month(col(\"date\")).alias(\"month\"))"
   ]
  },
  {
   "cell_type": "code",
   "execution_count": 20,
   "id": "ca0a1f8e",
   "metadata": {},
   "outputs": [
    {
     "name": "stdout",
     "output_type": "stream",
     "text": [
      "+---------+-----------+---------+--------+-------------------+----+-----+\n",
      "|       id|onpromotion|store_nbr|item_nbr|               date|year|month|\n",
      "+---------+-----------+---------+--------+-------------------+----+-----+\n",
      "|125497040|      false|        1|   96995|2017-08-16 01:00:00|2017|    8|\n",
      "|125497041|      false|        1|   99197|2017-08-16 01:00:00|2017|    8|\n",
      "+---------+-----------+---------+--------+-------------------+----+-----+\n",
      "only showing top 2 rows\n",
      "\n"
     ]
    }
   ],
   "source": [
    "df.show(2)"
   ]
  },
  {
   "cell_type": "code",
   "execution_count": 28,
   "id": "fa237b28",
   "metadata": {},
   "outputs": [],
   "source": [
    "##5 top item_NUMBERS \n",
    "popular = (df.filter(df['year'] == 2017).\n",
    "          filter(df['month'] == 8).\n",
    "          orderBy( df['item_nbr']).\n",
    "           select('item_nbr').limit(5))"
   ]
  },
  {
   "cell_type": "code",
   "execution_count": 34,
   "id": "c33d049d",
   "metadata": {},
   "outputs": [],
   "source": [
    "table2018 = df.filter(df['year'] == 2017). \\\n",
    "                     select(df['item_nbr'].alias(\"item_2017\"),\n",
    "                           df['store_nbr'].alias(\"store_2017\"))"
   ]
  },
  {
   "cell_type": "code",
   "execution_count": 36,
   "id": "7fd05963",
   "metadata": {},
   "outputs": [
    {
     "name": "stdout",
     "output_type": "stream",
     "text": [
      "+---------+----------+\n",
      "|item_2017|store_2017|\n",
      "+---------+----------+\n",
      "|    96995|         1|\n",
      "|    99197|         1|\n",
      "|   103501|         1|\n",
      "|   103520|         1|\n",
      "|   103665|         1|\n",
      "|   105574|         1|\n",
      "|   105575|         1|\n",
      "|   105576|         1|\n",
      "|   105577|         1|\n",
      "|   105693|         1|\n",
      "|   105737|         1|\n",
      "|   105857|         1|\n",
      "|   106716|         1|\n",
      "|   108079|         1|\n",
      "|   108634|         1|\n",
      "|   108696|         1|\n",
      "|   108698|         1|\n",
      "|   108701|         1|\n",
      "|   108786|         1|\n",
      "|   108797|         1|\n",
      "+---------+----------+\n",
      "only showing top 20 rows\n",
      "\n"
     ]
    }
   ],
   "source": [
    "table2018.show()"
   ]
  },
  {
   "cell_type": "code",
   "execution_count": null,
   "id": "41ec4009",
   "metadata": {},
   "outputs": [],
   "source": []
  }
 ],
 "metadata": {
  "kernelspec": {
   "display_name": "Python 3 (ipykernel)",
   "language": "python",
   "name": "python3"
  },
  "language_info": {
   "codemirror_mode": {
    "name": "ipython",
    "version": 3
   },
   "file_extension": ".py",
   "mimetype": "text/x-python",
   "name": "python",
   "nbconvert_exporter": "python",
   "pygments_lexer": "ipython3",
   "version": "3.9.7"
  }
 },
 "nbformat": 4,
 "nbformat_minor": 5
}
