{
 "cells": [
  {
   "cell_type": "code",
   "execution_count": 1,
   "id": "f81ca844",
   "metadata": {},
   "outputs": [],
   "source": [
    "from pyspark.sql import SparkSession"
   ]
  },
  {
   "cell_type": "code",
   "execution_count": 2,
   "id": "718175b8",
   "metadata": {},
   "outputs": [],
   "source": [
    "spark = SparkSession.builder.appName(\"Basics\").getOrCreate()"
   ]
  },
  {
   "cell_type": "code",
   "execution_count": 3,
   "id": "74a43b20",
   "metadata": {},
   "outputs": [
    {
     "data": {
      "text/html": [
       "\n",
       "            <div>\n",
       "                <p><b>SparkSession - in-memory</b></p>\n",
       "                \n",
       "        <div>\n",
       "            <p><b>SparkContext</b></p>\n",
       "\n",
       "            <p><a href=\"http://host.docker.internal:4040\">Spark UI</a></p>\n",
       "\n",
       "            <dl>\n",
       "              <dt>Version</dt>\n",
       "                <dd><code>v3.2.2</code></dd>\n",
       "              <dt>Master</dt>\n",
       "                <dd><code>local[*]</code></dd>\n",
       "              <dt>AppName</dt>\n",
       "                <dd><code>Basics</code></dd>\n",
       "            </dl>\n",
       "        </div>\n",
       "        \n",
       "            </div>\n",
       "        "
      ],
      "text/plain": [
       "<pyspark.sql.session.SparkSession at 0x2865e19c7c0>"
      ]
     },
     "execution_count": 3,
     "metadata": {},
     "output_type": "execute_result"
    }
   ],
   "source": [
    "spark"
   ]
  },
  {
   "cell_type": "code",
   "execution_count": 8,
   "id": "34549074",
   "metadata": {},
   "outputs": [],
   "source": [
    "df = spark.read.json(r'C:\\Users\\Kunj.Kinger\\Desktop\\spark\\archive\\iris.json')"
   ]
  },
  {
   "cell_type": "code",
   "execution_count": 9,
   "id": "bed0aa04",
   "metadata": {},
   "outputs": [
    {
     "name": "stdout",
     "output_type": "stream",
     "text": [
      "+---------------+-----------+----------+-----------+----------+-------+\n",
      "|_corrupt_record|petalLength|petalWidth|sepalLength|sepalWidth|species|\n",
      "+---------------+-----------+----------+-----------+----------+-------+\n",
      "|              [|       null|      null|       null|      null|   null|\n",
      "|           null|        1.4|       0.2|        5.1|       3.5| setosa|\n",
      "|           null|        1.4|       0.2|        4.9|       3.0| setosa|\n",
      "|           null|        1.3|       0.2|        4.7|       3.2| setosa|\n",
      "|           null|        1.5|       0.2|        4.6|       3.1| setosa|\n",
      "|           null|        1.4|       0.2|        5.0|       3.6| setosa|\n",
      "|           null|        1.7|       0.4|        5.4|       3.9| setosa|\n",
      "|           null|        1.4|       0.3|        4.6|       3.4| setosa|\n",
      "|           null|        1.5|       0.2|        5.0|       3.4| setosa|\n",
      "|           null|        1.4|       0.2|        4.4|       2.9| setosa|\n",
      "|           null|        1.5|       0.1|        4.9|       3.1| setosa|\n",
      "|           null|        1.5|       0.2|        5.4|       3.7| setosa|\n",
      "|           null|        1.6|       0.2|        4.8|       3.4| setosa|\n",
      "|           null|        1.4|       0.1|        4.8|       3.0| setosa|\n",
      "|           null|        1.1|       0.1|        4.3|       3.0| setosa|\n",
      "|           null|        1.2|       0.2|        5.8|       4.0| setosa|\n",
      "|           null|        1.5|       0.4|        5.7|       4.4| setosa|\n",
      "|           null|        1.3|       0.4|        5.4|       3.9| setosa|\n",
      "|           null|        1.4|       0.3|        5.1|       3.5| setosa|\n",
      "|           null|        1.7|       0.3|        5.7|       3.8| setosa|\n",
      "+---------------+-----------+----------+-----------+----------+-------+\n",
      "only showing top 20 rows\n",
      "\n"
     ]
    }
   ],
   "source": [
    "df.show()"
   ]
  },
  {
   "cell_type": "code",
   "execution_count": 10,
   "id": "3cdd9da3",
   "metadata": {},
   "outputs": [
    {
     "name": "stdout",
     "output_type": "stream",
     "text": [
      "root\n",
      " |-- _corrupt_record: string (nullable = true)\n",
      " |-- petalLength: double (nullable = true)\n",
      " |-- petalWidth: double (nullable = true)\n",
      " |-- sepalLength: double (nullable = true)\n",
      " |-- sepalWidth: double (nullable = true)\n",
      " |-- species: string (nullable = true)\n",
      "\n"
     ]
    }
   ],
   "source": [
    "df.printSchema()"
   ]
  },
  {
   "cell_type": "code",
   "execution_count": 11,
   "id": "46c4169b",
   "metadata": {},
   "outputs": [
    {
     "data": {
      "text/plain": [
       "['_corrupt_record',\n",
       " 'petalLength',\n",
       " 'petalWidth',\n",
       " 'sepalLength',\n",
       " 'sepalWidth',\n",
       " 'species']"
      ]
     },
     "execution_count": 11,
     "metadata": {},
     "output_type": "execute_result"
    }
   ],
   "source": [
    "df.columns"
   ]
  },
  {
   "cell_type": "code",
   "execution_count": 12,
   "id": "437309d4",
   "metadata": {},
   "outputs": [
    {
     "data": {
      "text/plain": [
       "DataFrame[summary: string, _corrupt_record: string, petalLength: string, petalWidth: string, sepalLength: string, sepalWidth: string, species: string]"
      ]
     },
     "execution_count": 12,
     "metadata": {},
     "output_type": "execute_result"
    }
   ],
   "source": [
    "df.describe()"
   ]
  },
  {
   "cell_type": "code",
   "execution_count": 13,
   "id": "45d7d009",
   "metadata": {},
   "outputs": [
    {
     "name": "stdout",
     "output_type": "stream",
     "text": [
      "+-------+---------------+------------------+------------------+------------------+-------------------+---------+\n",
      "|summary|_corrupt_record|       petalLength|        petalWidth|       sepalLength|         sepalWidth|  species|\n",
      "+-------+---------------+------------------+------------------+------------------+-------------------+---------+\n",
      "|  count|              2|               150|               150|               150|                150|      150|\n",
      "|   mean|           null|3.7580000000000027| 1.199333333333334| 5.843333333333335|  3.057333333333334|     null|\n",
      "| stddev|           null|1.7652982332594662|0.7622376689603467|0.8280661279778637|0.43586628493669793|     null|\n",
      "|    min|              [|               1.0|               0.1|               4.3|                2.0|   setosa|\n",
      "|    max|              ]|               6.9|               2.5|               7.9|                4.4|virginica|\n",
      "+-------+---------------+------------------+------------------+------------------+-------------------+---------+\n",
      "\n"
     ]
    }
   ],
   "source": [
    "df.describe().show()"
   ]
  },
  {
   "cell_type": "code",
   "execution_count": 20,
   "id": "2d888efa",
   "metadata": {},
   "outputs": [],
   "source": [
    "from pyspark.sql.types import StructField,StringType,IntegerType,StructType,FloatType"
   ]
  },
  {
   "cell_type": "code",
   "execution_count": 26,
   "id": "84268da6",
   "metadata": {},
   "outputs": [],
   "source": [
    "data_schema = [StructField(\"sepalWidth\",FloatType(),True), StructField(\"species\",StringType(),True),\n",
    "               StructField(\"petalWidth\",FloatType(),True)]"
   ]
  },
  {
   "cell_type": "code",
   "execution_count": 27,
   "id": "0a72ec4c",
   "metadata": {},
   "outputs": [],
   "source": [
    "final_struct = StructType(fields=data_schema)"
   ]
  },
  {
   "cell_type": "code",
   "execution_count": 28,
   "id": "18bf04c0",
   "metadata": {},
   "outputs": [],
   "source": [
    "df = spark.read.json(r\"C:\\Users\\Kunj.Kinger\\Desktop\\spark\\archive\\iris.json\",schema=final_struct)"
   ]
  },
  {
   "cell_type": "code",
   "execution_count": 29,
   "id": "49defa5c",
   "metadata": {},
   "outputs": [
    {
     "name": "stdout",
     "output_type": "stream",
     "text": [
      "root\n",
      " |-- sepalWidth: float (nullable = true)\n",
      " |-- species: string (nullable = true)\n",
      " |-- petalWidth: float (nullable = true)\n",
      "\n"
     ]
    }
   ],
   "source": [
    "df.printSchema()"
   ]
  },
  {
   "cell_type": "markdown",
   "id": "4a9e3430",
   "metadata": {},
   "source": [
    "# Grabbing the data"
   ]
  },
  {
   "cell_type": "code",
   "execution_count": 32,
   "id": "86acda6b",
   "metadata": {},
   "outputs": [
    {
     "ename": "TypeError",
     "evalue": "'Column' object is not callable",
     "output_type": "error",
     "traceback": [
      "\u001b[1;31m---------------------------------------------------------------------------\u001b[0m",
      "\u001b[1;31mTypeError\u001b[0m                                 Traceback (most recent call last)",
      "\u001b[1;32mC:\\Users\\KUNJ~1.KIN\\AppData\\Local\\Temp/ipykernel_19480/1173064639.py\u001b[0m in \u001b[0;36m<module>\u001b[1;34m\u001b[0m\n\u001b[1;32m----> 1\u001b[1;33m \u001b[0mdf\u001b[0m\u001b[1;33m[\u001b[0m\u001b[1;34m'species'\u001b[0m\u001b[1;33m]\u001b[0m\u001b[1;33m.\u001b[0m\u001b[0mshow\u001b[0m\u001b[1;33m(\u001b[0m\u001b[1;33m)\u001b[0m\u001b[1;33m\u001b[0m\u001b[1;33m\u001b[0m\u001b[0m\n\u001b[0m",
      "\u001b[1;31mTypeError\u001b[0m: 'Column' object is not callable"
     ]
    }
   ],
   "source": [
    "df['species'].show()"
   ]
  },
  {
   "cell_type": "code",
   "execution_count": 39,
   "id": "042a2d51",
   "metadata": {},
   "outputs": [],
   "source": [
    "species = df.select('species').distinct()"
   ]
  },
  {
   "cell_type": "code",
   "execution_count": 42,
   "id": "d54aed00",
   "metadata": {},
   "outputs": [
    {
     "name": "stdout",
     "output_type": "stream",
     "text": [
      "+----------+\n",
      "|   species|\n",
      "+----------+\n",
      "| virginica|\n",
      "|      null|\n",
      "|versicolor|\n",
      "|    setosa|\n",
      "+----------+\n",
      "\n"
     ]
    }
   ],
   "source": [
    "species.show()"
   ]
  },
  {
   "cell_type": "code",
   "execution_count": 45,
   "id": "3cf80575",
   "metadata": {},
   "outputs": [
    {
     "name": "stdout",
     "output_type": "stream",
     "text": [
      "+----------+-------+----------+-----------------+\n",
      "|sepalWidth|species|petalWidth|         newWidth|\n",
      "+----------+-------+----------+-----------------+\n",
      "|      null|   null|      null|             null|\n",
      "|       3.5| setosa|       0.2|              4.5|\n",
      "|       3.0| setosa|       0.2|              4.0|\n",
      "|       3.2| setosa|       0.2|4.200000047683716|\n",
      "|       3.1| setosa|       0.2|4.099999904632568|\n",
      "+----------+-------+----------+-----------------+\n",
      "only showing top 5 rows\n",
      "\n"
     ]
    }
   ],
   "source": [
    "df.withColumn('newWidth',df['sepalWidth'] + 1.0).show(5)"
   ]
  },
  {
   "cell_type": "code",
   "execution_count": 47,
   "id": "a2aba3fd",
   "metadata": {},
   "outputs": [
    {
     "name": "stdout",
     "output_type": "stream",
     "text": [
      "+------+-------+----------+\n",
      "|Swidth|species|petalWidth|\n",
      "+------+-------+----------+\n",
      "|  null|   null|      null|\n",
      "|   3.5| setosa|       0.2|\n",
      "|   3.0| setosa|       0.2|\n",
      "|   3.2| setosa|       0.2|\n",
      "|   3.1| setosa|       0.2|\n",
      "+------+-------+----------+\n",
      "only showing top 5 rows\n",
      "\n"
     ]
    }
   ],
   "source": [
    "df.withColumnRenamed('sepalWidth','Swidth').show(5)"
   ]
  },
  {
   "cell_type": "markdown",
   "id": "a60f7da9",
   "metadata": {},
   "source": [
    "# Using SQL"
   ]
  },
  {
   "cell_type": "code",
   "execution_count": 48,
   "id": "0b258bfd",
   "metadata": {},
   "outputs": [],
   "source": [
    "#regsiter the DataFrame as a SQL temporary view"
   ]
  },
  {
   "cell_type": "code",
   "execution_count": 50,
   "id": "875d6822",
   "metadata": {},
   "outputs": [],
   "source": [
    "df.createOrReplaceTempView(\"iris\")"
   ]
  },
  {
   "cell_type": "code",
   "execution_count": 51,
   "id": "05a23181",
   "metadata": {},
   "outputs": [],
   "source": [
    "sql_results = spark.sql(\"select * from iris\")"
   ]
  },
  {
   "cell_type": "code",
   "execution_count": 52,
   "id": "8507c4fc",
   "metadata": {},
   "outputs": [
    {
     "data": {
      "text/plain": [
       "DataFrame[sepalWidth: float, species: string, petalWidth: float]"
      ]
     },
     "execution_count": 52,
     "metadata": {},
     "output_type": "execute_result"
    }
   ],
   "source": [
    "sql_results"
   ]
  },
  {
   "cell_type": "code",
   "execution_count": 53,
   "id": "459aa9d7",
   "metadata": {},
   "outputs": [
    {
     "name": "stdout",
     "output_type": "stream",
     "text": [
      "+----------+-------+----------+\n",
      "|sepalWidth|species|petalWidth|\n",
      "+----------+-------+----------+\n",
      "|      null|   null|      null|\n",
      "|       3.5| setosa|       0.2|\n",
      "+----------+-------+----------+\n",
      "only showing top 2 rows\n",
      "\n"
     ]
    }
   ],
   "source": [
    "sql_results.show(2)"
   ]
  },
  {
   "cell_type": "code",
   "execution_count": null,
   "id": "1db8a422",
   "metadata": {},
   "outputs": [],
   "source": []
  }
 ],
 "metadata": {
  "kernelspec": {
   "display_name": "Python 3 (ipykernel)",
   "language": "python",
   "name": "python3"
  },
  "language_info": {
   "codemirror_mode": {
    "name": "ipython",
    "version": 3
   },
   "file_extension": ".py",
   "mimetype": "text/x-python",
   "name": "python",
   "nbconvert_exporter": "python",
   "pygments_lexer": "ipython3",
   "version": "3.9.7"
  }
 },
 "nbformat": 4,
 "nbformat_minor": 5
}
