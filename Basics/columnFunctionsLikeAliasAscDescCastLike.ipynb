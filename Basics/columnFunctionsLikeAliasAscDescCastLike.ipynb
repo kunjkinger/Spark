{
 "cells": [
  {
   "cell_type": "code",
   "execution_count": 1,
   "id": "0412198a",
   "metadata": {},
   "outputs": [],
   "source": [
    "from pyspark.sql import *\n",
    "from pyspark.sql.types import *\n",
    "from pyspark.sql.functions import *"
   ]
  },
  {
   "cell_type": "code",
   "execution_count": 2,
   "id": "2c4c0c69",
   "metadata": {},
   "outputs": [],
   "source": [
    "spark = SparkSession.builder.appName(\"ColumnFunctions\").getOrCreate()"
   ]
  },
  {
   "cell_type": "code",
   "execution_count": 24,
   "id": "f9b1906f",
   "metadata": {},
   "outputs": [
    {
     "name": "stdout",
     "output_type": "stream",
     "text": [
      "+---+-----+------+-------+\n",
      "| id| name|gender| salary|\n",
      "+---+-----+------+-------+\n",
      "|  1| Kunj|     M| 500000|\n",
      "|  2|Raman|     M| 800000|\n",
      "|  3| Emma|     F| 200000|\n",
      "|  4| King|     M|1000000|\n",
      "+---+-----+------+-------+\n",
      "\n"
     ]
    }
   ],
   "source": [
    "data = [(1,'Kunj','M','500000'),\n",
    "       (2,'Raman','M','800000'),\n",
    "       (3,'Emma','F','200000'),\n",
    "       (4,'King','M','1000000')]\n",
    "\n",
    "columns = ['id','name','gender','salary']\n",
    "df = spark.createDataFrame(data=data,schema=columns)\n",
    "\n",
    "df.show()"
   ]
  },
  {
   "cell_type": "code",
   "execution_count": 25,
   "id": "e1969afa",
   "metadata": {},
   "outputs": [
    {
     "name": "stdout",
     "output_type": "stream",
     "text": [
      "+------+--------+----------+\n",
      "|emp_id|emp_name|emp_salary|\n",
      "+------+--------+----------+\n",
      "|     1|    Kunj|    500000|\n",
      "|     2|   Raman|    800000|\n",
      "|     3|    Emma|    200000|\n",
      "|     4|    King|   1000000|\n",
      "+------+--------+----------+\n",
      "\n"
     ]
    }
   ],
   "source": [
    "df.select(df.id.alias('emp_id'),df.name.alias('emp_name'),df.salary.alias('emp_salary')).show()"
   ]
  },
  {
   "cell_type": "code",
   "execution_count": 26,
   "id": "ce6aa090",
   "metadata": {},
   "outputs": [
    {
     "name": "stdout",
     "output_type": "stream",
     "text": [
      "+---+-----+------+-------+\n",
      "| id| name|gender| salary|\n",
      "+---+-----+------+-------+\n",
      "|  4| King|     M|1000000|\n",
      "|  3| Emma|     F| 200000|\n",
      "|  1| Kunj|     M| 500000|\n",
      "|  2|Raman|     M| 800000|\n",
      "+---+-----+------+-------+\n",
      "\n"
     ]
    }
   ],
   "source": [
    "df.sort(df.salary.asc()).show()"
   ]
  },
  {
   "cell_type": "code",
   "execution_count": 27,
   "id": "0de5232f",
   "metadata": {},
   "outputs": [
    {
     "name": "stdout",
     "output_type": "stream",
     "text": [
      "root\n",
      " |-- id: long (nullable = true)\n",
      " |-- name: string (nullable = true)\n",
      " |-- gender: string (nullable = true)\n",
      " |-- salary: string (nullable = true)\n",
      "\n"
     ]
    }
   ],
   "source": [
    "df.printSchema()"
   ]
  },
  {
   "cell_type": "code",
   "execution_count": 28,
   "id": "95ffac39",
   "metadata": {},
   "outputs": [
    {
     "name": "stdout",
     "output_type": "stream",
     "text": [
      "root\n",
      " |-- id: long (nullable = true)\n",
      " |-- name: string (nullable = true)\n",
      " |-- salary: integer (nullable = true)\n",
      "\n"
     ]
    }
   ],
   "source": [
    "df1 = df.select(df.id,df.name,df.salary.cast('int'))\n",
    "df1.printSchema()"
   ]
  },
  {
   "cell_type": "code",
   "execution_count": 29,
   "id": "5b9eb97a",
   "metadata": {},
   "outputs": [
    {
     "name": "stdout",
     "output_type": "stream",
     "text": [
      "+---+----+------+-------+\n",
      "| id|name|gender| salary|\n",
      "+---+----+------+-------+\n",
      "|  1|Kunj|     M| 500000|\n",
      "|  4|King|     M|1000000|\n",
      "+---+----+------+-------+\n",
      "\n"
     ]
    }
   ],
   "source": [
    "df.filter(df.name.like('K%')).show()"
   ]
  },
  {
   "cell_type": "code",
   "execution_count": null,
   "id": "29d5adfa",
   "metadata": {},
   "outputs": [],
   "source": []
  }
 ],
 "metadata": {
  "kernelspec": {
   "display_name": "Python 3 (ipykernel)",
   "language": "python",
   "name": "python3"
  },
  "language_info": {
   "codemirror_mode": {
    "name": "ipython",
    "version": 3
   },
   "file_extension": ".py",
   "mimetype": "text/x-python",
   "name": "python",
   "nbconvert_exporter": "python",
   "pygments_lexer": "ipython3",
   "version": "3.9.7"
  }
 },
 "nbformat": 4,
 "nbformat_minor": 5
}
