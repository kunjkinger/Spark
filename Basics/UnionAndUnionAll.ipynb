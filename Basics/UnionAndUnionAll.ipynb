{
 "cells": [
  {
   "cell_type": "code",
   "execution_count": 1,
   "id": "e2e0197b",
   "metadata": {},
   "outputs": [],
   "source": [
    "from pyspark.sql import *\n",
    "from pyspark.sql.types import *\n",
    "from pyspark.sql.functions import *"
   ]
  },
  {
   "cell_type": "code",
   "execution_count": 2,
   "id": "632c8849",
   "metadata": {},
   "outputs": [],
   "source": [
    "spark = SparkSession.builder.appName(\"Union\").getOrCreate()"
   ]
  },
  {
   "cell_type": "code",
   "execution_count": 4,
   "id": "02e7fecc",
   "metadata": {},
   "outputs": [
    {
     "name": "stdout",
     "output_type": "stream",
     "text": [
      "+---+-----+------+-------+-------+\n",
      "| id| name|gender| salary|   Dept|\n",
      "+---+-----+------+-------+-------+\n",
      "|  1| Kunj|     M| 500000|     IT|\n",
      "|  2|Raman|     M| 800000|     CA|\n",
      "|  3| Emma|     F| 200000|Medical|\n",
      "|  4| King|     M|1000000|     IT|\n",
      "+---+-----+------+-------+-------+\n",
      "\n",
      "+---+-----+------+-------+-------+\n",
      "| id| name|gender| salary|   Dept|\n",
      "+---+-----+------+-------+-------+\n",
      "|  1| Kunj|     M| 500000|     IT|\n",
      "|  2|Raman|     M| 800000|     CA|\n",
      "|  3| Emma|     F| 200000|Medical|\n",
      "|  4| King|     M|1000000|     IT|\n",
      "+---+-----+------+-------+-------+\n",
      "\n"
     ]
    }
   ],
   "source": [
    "data = [(1,'Kunj','M','500000','IT'),\n",
    "       (2,'Raman','M','800000','CA'),\n",
    "       (3,'Emma','F','200000','Medical'),\n",
    "       (4,'King','M','1000000','IT')]\n",
    "\n",
    "columns = ['id','name','gender','salary','Dept']\n",
    "df1 = spark.createDataFrame(data=data,schema=columns)\n",
    "df2 = spark.createDataFrame(data=data,schema=columns)\n",
    "\n",
    "df1.show()\n",
    "df2.show()"
   ]
  },
  {
   "cell_type": "code",
   "execution_count": 5,
   "id": "6105dad4",
   "metadata": {},
   "outputs": [
    {
     "name": "stdout",
     "output_type": "stream",
     "text": [
      "+---+-----+------+-------+-------+\n",
      "| id| name|gender| salary|   Dept|\n",
      "+---+-----+------+-------+-------+\n",
      "|  1| Kunj|     M| 500000|     IT|\n",
      "|  2|Raman|     M| 800000|     CA|\n",
      "|  3| Emma|     F| 200000|Medical|\n",
      "|  4| King|     M|1000000|     IT|\n",
      "|  1| Kunj|     M| 500000|     IT|\n",
      "|  2|Raman|     M| 800000|     CA|\n",
      "|  3| Emma|     F| 200000|Medical|\n",
      "|  4| King|     M|1000000|     IT|\n",
      "+---+-----+------+-------+-------+\n",
      "\n"
     ]
    }
   ],
   "source": [
    "df1.union(df2).show()"
   ]
  },
  {
   "cell_type": "code",
   "execution_count": 8,
   "id": "cc1c4fff",
   "metadata": {},
   "outputs": [
    {
     "name": "stdout",
     "output_type": "stream",
     "text": [
      "+---+-----+------+-------+-------+\n",
      "| id| name|gender| salary|   Dept|\n",
      "+---+-----+------+-------+-------+\n",
      "|  1| Kunj|     M| 500000|     IT|\n",
      "|  2|Raman|     M| 800000|     CA|\n",
      "|  3| Emma|     F| 200000|Medical|\n",
      "|  4| King|     M|1000000|     IT|\n",
      "|  1| Kunj|     M| 500000|     IT|\n",
      "|  2|Raman|     M| 800000|     CA|\n",
      "|  3| Emma|     F| 200000|Medical|\n",
      "|  4| King|     M|1000000|     IT|\n",
      "+---+-----+------+-------+-------+\n",
      "\n",
      "+---+-----+------+-------+-------+\n",
      "| id| name|gender| salary|   Dept|\n",
      "+---+-----+------+-------+-------+\n",
      "|  1| Kunj|     M| 500000|     IT|\n",
      "|  2|Raman|     M| 800000|     CA|\n",
      "|  3| Emma|     F| 200000|Medical|\n",
      "|  4| King|     M|1000000|     IT|\n",
      "+---+-----+------+-------+-------+\n",
      "\n"
     ]
    }
   ],
   "source": [
    "df3 = df1.unionAll(df2)\n",
    "df3.show()\n",
    "df3.distinct().show()"
   ]
  },
  {
   "cell_type": "code",
   "execution_count": null,
   "id": "e4ce7c74",
   "metadata": {},
   "outputs": [],
   "source": []
  }
 ],
 "metadata": {
  "kernelspec": {
   "display_name": "Python 3 (ipykernel)",
   "language": "python",
   "name": "python3"
  },
  "language_info": {
   "codemirror_mode": {
    "name": "ipython",
    "version": 3
   },
   "file_extension": ".py",
   "mimetype": "text/x-python",
   "name": "python",
   "nbconvert_exporter": "python",
   "pygments_lexer": "ipython3",
   "version": "3.9.7"
  }
 },
 "nbformat": 4,
 "nbformat_minor": 5
}
