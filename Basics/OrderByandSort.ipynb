{
 "cells": [
  {
   "cell_type": "code",
   "execution_count": 1,
   "id": "250538fe",
   "metadata": {},
   "outputs": [],
   "source": [
    "from pyspark.sql import *\n",
    "from pyspark.sql.types import *\n",
    "from pyspark.sql.functions import *"
   ]
  },
  {
   "cell_type": "code",
   "execution_count": 2,
   "id": "474cd58f",
   "metadata": {},
   "outputs": [],
   "source": [
    "spark = SparkSession.builder.appName(\"orderByandSort\").getOrCreate()"
   ]
  },
  {
   "cell_type": "code",
   "execution_count": 16,
   "id": "f5594c65",
   "metadata": {
    "scrolled": true
   },
   "outputs": [
    {
     "name": "stdout",
     "output_type": "stream",
     "text": [
      "+---+-----+------+-------+-------+\n",
      "| id| name|gender| salary|   Dept|\n",
      "+---+-----+------+-------+-------+\n",
      "|  1| Kunj|     M| 500000|     IT|\n",
      "|  2|Raman|     M| 800000|     CA|\n",
      "|  3| Emma|     F| 200000|Medical|\n",
      "|  4| King|     M|1000000|     IT|\n",
      "+---+-----+------+-------+-------+\n",
      "\n"
     ]
    }
   ],
   "source": [
    "data = [(1,'Kunj','M','500000','IT'),\n",
    "       (2,'Raman','M','800000','CA'),\n",
    "       (3,'Emma','F','200000','Medical'),\n",
    "       (4,'King','M','1000000','IT')]\n",
    "\n",
    "columns = ['id','name','gender','salary','Dept']\n",
    "df = spark.createDataFrame(data=data,schema=columns)\n",
    "\n",
    "df.show()"
   ]
  },
  {
   "cell_type": "code",
   "execution_count": 20,
   "id": "7e4dc287",
   "metadata": {},
   "outputs": [
    {
     "name": "stdout",
     "output_type": "stream",
     "text": [
      "+---+-----+------+-------+-------+\n",
      "| id| name|gender| salary|   Dept|\n",
      "+---+-----+------+-------+-------+\n",
      "|  2|Raman|     M| 800000|     CA|\n",
      "|  1| Kunj|     M| 500000|     IT|\n",
      "|  4| King|     M|1000000|     IT|\n",
      "|  3| Emma|     F| 200000|Medical|\n",
      "+---+-----+------+-------+-------+\n",
      "\n"
     ]
    }
   ],
   "source": [
    "df.sort(df.Dept,df.salary.desc()).show()"
   ]
  },
  {
   "cell_type": "code",
   "execution_count": 12,
   "id": "811d8d52",
   "metadata": {},
   "outputs": [
    {
     "name": "stdout",
     "output_type": "stream",
     "text": [
      "+---+-----+------+-------+-------+\n",
      "| id| name|gender| salary|   Dept|\n",
      "+---+-----+------+-------+-------+\n",
      "|  2|Raman|     M| 800000|     CA|\n",
      "|  1| Kunj|     M| 500000|     IT|\n",
      "|  3| Emma|     F| 200000|Medical|\n",
      "|  4| King|     M|1000000|    Mix|\n",
      "+---+-----+------+-------+-------+\n",
      "\n"
     ]
    }
   ],
   "source": [
    "df.orderBy(df.Dept).show()"
   ]
  },
  {
   "cell_type": "code",
   "execution_count": null,
   "id": "cd89cbab",
   "metadata": {},
   "outputs": [],
   "source": []
  }
 ],
 "metadata": {
  "kernelspec": {
   "display_name": "Python 3 (ipykernel)",
   "language": "python",
   "name": "python3"
  },
  "language_info": {
   "codemirror_mode": {
    "name": "ipython",
    "version": 3
   },
   "file_extension": ".py",
   "mimetype": "text/x-python",
   "name": "python",
   "nbconvert_exporter": "python",
   "pygments_lexer": "ipython3",
   "version": "3.9.7"
  }
 },
 "nbformat": 4,
 "nbformat_minor": 5
}
