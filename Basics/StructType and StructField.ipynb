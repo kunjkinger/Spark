{
 "cells": [
  {
   "cell_type": "code",
   "execution_count": 4,
   "id": "e93d59cf",
   "metadata": {},
   "outputs": [],
   "source": [
    "from pyspark.sql import *\n",
    "from pyspark.sql.types import *"
   ]
  },
  {
   "cell_type": "code",
   "execution_count": 2,
   "id": "579d950b",
   "metadata": {},
   "outputs": [],
   "source": [
    "spark = SparkSession.builder.appName(\"schema with the help of struct\").getOrCreate()"
   ]
  },
  {
   "cell_type": "code",
   "execution_count": 8,
   "id": "d52c6497",
   "metadata": {},
   "outputs": [
    {
     "name": "stdout",
     "output_type": "stream",
     "text": [
      "+---+-----+------+\n",
      "| id| name|salary|\n",
      "+---+-----+------+\n",
      "|  1| kunj|200000|\n",
      "|  2|Raman|500000|\n",
      "+---+-----+------+\n",
      "\n",
      "root\n",
      " |-- id: integer (nullable = true)\n",
      " |-- name: string (nullable = true)\n",
      " |-- salary: integer (nullable = true)\n",
      "\n"
     ]
    }
   ],
   "source": [
    "data = [(1,'kunj',200000),\n",
    "       (2,'Raman',500000)]\n",
    "\n",
    "schema = StructType([StructField(name='id',dataType=IntegerType()),\n",
    "                    StructField(name='name',dataType=StringType()),\n",
    "                    StructField(name='salary',dataType=IntegerType())])\n",
    "\n",
    "df = spark.createDataFrame(data=data,schema=schema)\n",
    "\n",
    "df.show()\n",
    "\n",
    "df.printSchema()"
   ]
  },
  {
   "cell_type": "code",
   "execution_count": 10,
   "id": "bd329030",
   "metadata": {},
   "outputs": [
    {
     "name": "stdout",
     "output_type": "stream",
     "text": [
      "+---+---------------+------+\n",
      "| id|           name|salary|\n",
      "+---+---------------+------+\n",
      "|  1| {kunj, Kinger}|200000|\n",
      "|  2|{Raman, Kinger}|500000|\n",
      "+---+---------------+------+\n",
      "\n",
      "root\n",
      " |-- id: integer (nullable = true)\n",
      " |-- name: struct (nullable = true)\n",
      " |    |-- firstName: string (nullable = true)\n",
      " |    |-- lastName: string (nullable = true)\n",
      " |-- salary: integer (nullable = true)\n",
      "\n"
     ]
    }
   ],
   "source": [
    "data = [(1,('kunj','Kinger'),200000),\n",
    "       (2,('Raman','Kinger'),500000)]\n",
    "\n",
    "structName = StructType([\\\n",
    "                        StructField('firstName',StringType()),\n",
    "                        StructField('lastName',StringType())])\n",
    "\n",
    "schema = StructType([StructField(name='id',dataType=IntegerType()),\n",
    "                    StructField(name='name',dataType=structName),\n",
    "                    StructField(name='salary',dataType=IntegerType())])\n",
    "\n",
    "df = spark.createDataFrame(data=data,schema=schema)\n",
    "\n",
    "df.show()\n",
    "\n",
    "df.printSchema()"
   ]
  },
  {
   "cell_type": "code",
   "execution_count": null,
   "id": "d4fc6572",
   "metadata": {},
   "outputs": [],
   "source": []
  }
 ],
 "metadata": {
  "kernelspec": {
   "display_name": "Python 3 (ipykernel)",
   "language": "python",
   "name": "python3"
  },
  "language_info": {
   "codemirror_mode": {
    "name": "ipython",
    "version": 3
   },
   "file_extension": ".py",
   "mimetype": "text/x-python",
   "name": "python",
   "nbconvert_exporter": "python",
   "pygments_lexer": "ipython3",
   "version": "3.9.7"
  }
 },
 "nbformat": 4,
 "nbformat_minor": 5
}
