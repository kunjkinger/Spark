{
 "cells": [
  {
   "cell_type": "code",
   "execution_count": 1,
   "id": "a287339d",
   "metadata": {},
   "outputs": [],
   "source": [
    "from pyspark.sql import *\n",
    "from pyspark.sql.types import *\n",
    "from pyspark.sql.functions import *"
   ]
  },
  {
   "cell_type": "code",
   "execution_count": 2,
   "id": "5b3d134c",
   "metadata": {},
   "outputs": [],
   "source": [
    "spark = SparkSession.builder.appName(\"arrayTypeFunctions\").getOrCreate()"
   ]
  },
  {
   "cell_type": "code",
   "execution_count": 6,
   "id": "d99af9f8",
   "metadata": {},
   "outputs": [
    {
     "name": "stdout",
     "output_type": "stream",
     "text": [
      "+----+-----------------------------+\n",
      "|name|features                     |\n",
      "+----+-----------------------------+\n",
      "|kunj|{eye -> brown, hair -> black}|\n",
      "|Emma|{eye -> Hazel, hair -> brown}|\n",
      "+----+-----------------------------+\n",
      "\n",
      "root\n",
      " |-- name: string (nullable = true)\n",
      " |-- features: map (nullable = true)\n",
      " |    |-- key: string\n",
      " |    |-- value: string (valueContainsNull = true)\n",
      "\n"
     ]
    }
   ],
   "source": [
    "data = [('kunj',{'hair':'black','eye':'brown'}),('Emma',{'hair':'brown','eye':'Hazel'})]\n",
    "\n",
    "schema = StructType([\\\n",
    "                    StructField('name',StringType()), \\#key     , value\n",
    "                    StructField('features',MapType(StringType(),StringType()))])\n",
    "\n",
    "\n",
    "df = spark.createDataFrame(data=data,schema=schema)\n",
    "df.show(truncate=False)\n",
    "df.printSchema()"
   ]
  },
  {
   "cell_type": "code",
   "execution_count": 8,
   "id": "15157edf",
   "metadata": {},
   "outputs": [
    {
     "name": "stdout",
     "output_type": "stream",
     "text": [
      "+----+-----------------------------+-----+\n",
      "|name|features                     |hair |\n",
      "+----+-----------------------------+-----+\n",
      "|kunj|{eye -> brown, hair -> black}|black|\n",
      "|Emma|{eye -> Hazel, hair -> brown}|brown|\n",
      "+----+-----------------------------+-----+\n",
      "\n"
     ]
    }
   ],
   "source": [
    "df1 = df.withColumn('hair',df.features['hair'])\n",
    "df1.show(truncate=False)"
   ]
  },
  {
   "cell_type": "code",
   "execution_count": 10,
   "id": "179ddb11",
   "metadata": {},
   "outputs": [
    {
     "name": "stdout",
     "output_type": "stream",
     "text": [
      "+----+-----------------------------+-----+-----+\n",
      "|name|features                     |hair |eyes |\n",
      "+----+-----------------------------+-----+-----+\n",
      "|kunj|{eye -> brown, hair -> black}|black|brown|\n",
      "|Emma|{eye -> Hazel, hair -> brown}|brown|Hazel|\n",
      "+----+-----------------------------+-----+-----+\n",
      "\n"
     ]
    }
   ],
   "source": [
    "df2 = df1.withColumn('eyes',df.features.getItem('eye'))\n",
    "df2.show(truncate=False)"
   ]
  },
  {
   "cell_type": "code",
   "execution_count": null,
   "id": "eab2ca87",
   "metadata": {},
   "outputs": [],
   "source": []
  }
 ],
 "metadata": {
  "kernelspec": {
   "display_name": "Python 3 (ipykernel)",
   "language": "python",
   "name": "python3"
  },
  "language_info": {
   "codemirror_mode": {
    "name": "ipython",
    "version": 3
   },
   "file_extension": ".py",
   "mimetype": "text/x-python",
   "name": "python",
   "nbconvert_exporter": "python",
   "pygments_lexer": "ipython3",
   "version": "3.9.7"
  }
 },
 "nbformat": 4,
 "nbformat_minor": 5
}
