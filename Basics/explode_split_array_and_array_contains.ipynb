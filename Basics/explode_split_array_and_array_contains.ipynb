{
 "cells": [
  {
   "cell_type": "code",
   "execution_count": 4,
   "id": "fec42f6b",
   "metadata": {},
   "outputs": [],
   "source": [
    "from pyspark.sql import *\n",
    "from pyspark.sql.types import *\n",
    "from pyspark.sql.functions import *"
   ]
  },
  {
   "cell_type": "code",
   "execution_count": 2,
   "id": "0a26a308",
   "metadata": {},
   "outputs": [],
   "source": [
    "spark = SparkSession.builder.appName(\"arrayTypeFunctions\").getOrCreate()"
   ]
  },
  {
   "cell_type": "code",
   "execution_count": 3,
   "id": "6bffc1ec",
   "metadata": {},
   "outputs": [
    {
     "name": "stdout",
     "output_type": "stream",
     "text": [
      "+---+-----+--------------------+\n",
      "| id| name|              skills|\n",
      "+---+-----+--------------------+\n",
      "|  1| kunj|[machine learning...|\n",
      "|  2|Raman|[accounting, ca, ...|\n",
      "+---+-----+--------------------+\n",
      "\n",
      "root\n",
      " |-- id: long (nullable = true)\n",
      " |-- name: string (nullable = true)\n",
      " |-- skills: array (nullable = true)\n",
      " |    |-- element: string (containsNull = true)\n",
      "\n"
     ]
    }
   ],
   "source": [
    "data = [(1,'kunj',['machine learning','spark','sql','de','azure']),\n",
    "       (2,'Raman',['accounting','ca,maths','calculator,manager'])]\n",
    "\n",
    "columns = ['id','name','skills']\n",
    "df = spark.createDataFrame(data=data,schema=columns)\n",
    "\n",
    "df.show()\n",
    "\n",
    "df.printSchema()"
   ]
  },
  {
   "cell_type": "code",
   "execution_count": 6,
   "id": "8af240d1",
   "metadata": {},
   "outputs": [
    {
     "name": "stdout",
     "output_type": "stream",
     "text": [
      "+---+-----+--------------------+----------------+\n",
      "| id| name|              skills|           skill|\n",
      "+---+-----+--------------------+----------------+\n",
      "|  1| kunj|[machine learning...|machine learning|\n",
      "|  1| kunj|[machine learning...|           spark|\n",
      "|  1| kunj|[machine learning...|             sql|\n",
      "|  1| kunj|[machine learning...|              de|\n",
      "|  1| kunj|[machine learning...|           azure|\n",
      "|  2|Raman|[accounting, ca, ...|      accounting|\n",
      "|  2|Raman|[accounting, ca, ...|              ca|\n",
      "|  2|Raman|[accounting, ca, ...|           maths|\n",
      "|  2|Raman|[accounting, ca, ...|      calculator|\n",
      "|  2|Raman|[accounting, ca, ...|         manager|\n",
      "+---+-----+--------------------+----------------+\n",
      "\n"
     ]
    }
   ],
   "source": [
    "#explode uses to explode a column\n",
    "df2 = df.withColumn('skill',explode(df.skills))\n",
    "df2.show()\n"
   ]
  },
  {
   "cell_type": "code",
   "execution_count": 14,
   "id": "f06d82e2",
   "metadata": {},
   "outputs": [
    {
     "name": "stdout",
     "output_type": "stream",
     "text": [
      "+---+-----+-------------+\n",
      "| id| name|       skills|\n",
      "+---+-----+-------------+\n",
      "|  1| kunj|    spark,sql|\n",
      "|  2|Raman|accounting,ca|\n",
      "+---+-----+-------------+\n",
      "\n",
      "root\n",
      " |-- id: long (nullable = true)\n",
      " |-- name: string (nullable = true)\n",
      " |-- skills: string (nullable = true)\n",
      "\n"
     ]
    }
   ],
   "source": [
    "#split uses to split the values according to delimeter\n",
    "data = [(1,'kunj','spark,sql'),\n",
    "       (2,'Raman','accounting,ca')]\n",
    "\n",
    "columns = ['id','name','skills']\n",
    "df = spark.createDataFrame(data=data,schema=columns)\n",
    "\n",
    "df.show()\n",
    "\n",
    "df.printSchema()"
   ]
  },
  {
   "cell_type": "code",
   "execution_count": 15,
   "id": "d52ed835",
   "metadata": {},
   "outputs": [
    {
     "name": "stdout",
     "output_type": "stream",
     "text": [
      "+---+-----+-------------+----------------+\n",
      "| id| name|       skills|           skill|\n",
      "+---+-----+-------------+----------------+\n",
      "|  1| kunj|    spark,sql|    [spark, sql]|\n",
      "|  2|Raman|accounting,ca|[accounting, ca]|\n",
      "+---+-----+-------------+----------------+\n",
      "\n"
     ]
    }
   ],
   "source": [
    "df2 = df.withColumn('skill',split(col('skills'),','))\n",
    "df2.show()"
   ]
  },
  {
   "cell_type": "code",
   "execution_count": 16,
   "id": "6ed67e10",
   "metadata": {},
   "outputs": [
    {
     "name": "stdout",
     "output_type": "stream",
     "text": [
      "+---+-----+----------+---------+\n",
      "| id| name|primskills|secskills|\n",
      "+---+-----+----------+---------+\n",
      "|  1| kunj|     spark|      sql|\n",
      "|  2|Raman|accounting|       ca|\n",
      "+---+-----+----------+---------+\n",
      "\n",
      "root\n",
      " |-- id: long (nullable = true)\n",
      " |-- name: string (nullable = true)\n",
      " |-- primskills: string (nullable = true)\n",
      " |-- secskills: string (nullable = true)\n",
      "\n"
     ]
    }
   ],
   "source": [
    "data = [(1,'kunj','spark','sql'),\n",
    "       (2,'Raman','accounting','ca')]\n",
    "\n",
    "columns = ['id','name','primskills','secskills']\n",
    "df = spark.createDataFrame(data=data,schema=columns)\n",
    "\n",
    "df.show()\n",
    "\n",
    "df.printSchema()"
   ]
  },
  {
   "cell_type": "code",
   "execution_count": 17,
   "id": "06d26f95",
   "metadata": {},
   "outputs": [
    {
     "name": "stdout",
     "output_type": "stream",
     "text": [
      "+---+-----+----------+---------+----------------+\n",
      "| id| name|primskills|secskills|     skillsArray|\n",
      "+---+-----+----------+---------+----------------+\n",
      "|  1| kunj|     spark|      sql|    [spark, sql]|\n",
      "|  2|Raman|accounting|       ca|[accounting, ca]|\n",
      "+---+-----+----------+---------+----------------+\n",
      "\n"
     ]
    }
   ],
   "source": [
    "df.withColumn('skillsArray',array(df.primskills,df.secskills)).show()"
   ]
  },
  {
   "cell_type": "code",
   "execution_count": 18,
   "id": "0fc24ffc",
   "metadata": {},
   "outputs": [
    {
     "name": "stdout",
     "output_type": "stream",
     "text": [
      "+---+-----+--------------------+\n",
      "| id| name|              skills|\n",
      "+---+-----+--------------------+\n",
      "|  1| kunj|[machine learning...|\n",
      "|  2|Raman|[accounting, ca,m...|\n",
      "+---+-----+--------------------+\n",
      "\n",
      "root\n",
      " |-- id: long (nullable = true)\n",
      " |-- name: string (nullable = true)\n",
      " |-- skills: array (nullable = true)\n",
      " |    |-- element: string (containsNull = true)\n",
      "\n"
     ]
    }
   ],
   "source": [
    "data = [(1,'kunj',['machine learning','spark','sql','de','azure']),\n",
    "       (2,'Raman',['accounting','ca,maths','calculator,manager'])]\n",
    "\n",
    "columns = ['id','name','skills']\n",
    "df = spark.createDataFrame(data=data,schema=columns)\n",
    "\n",
    "df.show()\n",
    "\n",
    "df.printSchema()"
   ]
  },
  {
   "cell_type": "code",
   "execution_count": 19,
   "id": "5cce0abb",
   "metadata": {},
   "outputs": [
    {
     "name": "stdout",
     "output_type": "stream",
     "text": [
      "+---+-----+--------------------+-------------+\n",
      "| id| name|              skills|HasSparkSkill|\n",
      "+---+-----+--------------------+-------------+\n",
      "|  1| kunj|[machine learning...|         true|\n",
      "|  2|Raman|[accounting, ca,m...|        false|\n",
      "+---+-----+--------------------+-------------+\n",
      "\n"
     ]
    }
   ],
   "source": [
    "#tells if the value exist in the column or not\n",
    "df1 = df.withColumn('HasSparkSkill',array_contains(df.skills,'spark'))\n",
    "df1.show()"
   ]
  },
  {
   "cell_type": "code",
   "execution_count": null,
   "id": "5f1c532e",
   "metadata": {},
   "outputs": [],
   "source": []
  }
 ],
 "metadata": {
  "kernelspec": {
   "display_name": "Python 3 (ipykernel)",
   "language": "python",
   "name": "python3"
  },
  "language_info": {
   "codemirror_mode": {
    "name": "ipython",
    "version": 3
   },
   "file_extension": ".py",
   "mimetype": "text/x-python",
   "name": "python",
   "nbconvert_exporter": "python",
   "pygments_lexer": "ipython3",
   "version": "3.9.7"
  }
 },
 "nbformat": 4,
 "nbformat_minor": 5
}
