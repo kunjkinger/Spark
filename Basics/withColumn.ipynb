{
 "cells": [
  {
   "cell_type": "code",
   "execution_count": 4,
   "id": "8d7905bc",
   "metadata": {},
   "outputs": [],
   "source": [
    "#use for adding a new column or change value in a column or change column datatype in df\n",
    "\n",
    "#It is a transformation function"
   ]
  },
  {
   "cell_type": "code",
   "execution_count": 14,
   "id": "54f3e239",
   "metadata": {},
   "outputs": [],
   "source": [
    "from pyspark.sql import *\n",
    "from pyspark.sql.functions import col, lit"
   ]
  },
  {
   "cell_type": "code",
   "execution_count": 3,
   "id": "a452d8c6",
   "metadata": {},
   "outputs": [],
   "source": [
    "spark = SparkSession.builder.appName(\"withColumn\").getOrCreate()"
   ]
  },
  {
   "cell_type": "code",
   "execution_count": 6,
   "id": "4b98835e",
   "metadata": {},
   "outputs": [
    {
     "name": "stdout",
     "output_type": "stream",
     "text": [
      "+---+-----+------+\n",
      "| id| name|salary|\n",
      "+---+-----+------+\n",
      "|  1| kunj|200000|\n",
      "|  2|Raman|500000|\n",
      "+---+-----+------+\n",
      "\n",
      "root\n",
      " |-- id: long (nullable = true)\n",
      " |-- name: string (nullable = true)\n",
      " |-- salary: string (nullable = true)\n",
      "\n"
     ]
    }
   ],
   "source": [
    "data = [(1,'kunj','200000'),\n",
    "       (2,'Raman','500000')]\n",
    "\n",
    "columns = ['id','name','salary']\n",
    "df = spark.createDataFrame(data=data,schema=columns)\n",
    "\n",
    "df.show()\n",
    "\n",
    "df.printSchema()"
   ]
  },
  {
   "cell_type": "code",
   "execution_count": 10,
   "id": "869c0472",
   "metadata": {},
   "outputs": [
    {
     "name": "stdout",
     "output_type": "stream",
     "text": [
      "root\n",
      " |-- id: long (nullable = true)\n",
      " |-- name: string (nullable = true)\n",
      " |-- salary: integer (nullable = true)\n",
      "\n",
      "+---+-----+------+\n",
      "| id| name|salary|\n",
      "+---+-----+------+\n",
      "|  1| kunj|200000|\n",
      "|  2|Raman|500000|\n",
      "+---+-----+------+\n",
      "\n"
     ]
    }
   ],
   "source": [
    "#changing datatype\n",
    "df1 = df.withColumn(colName='salary',col=col('salary').cast('Integer'))\n",
    "df1.printSchema()\n",
    "df1.show()"
   ]
  },
  {
   "cell_type": "code",
   "execution_count": 13,
   "id": "90d1844e",
   "metadata": {},
   "outputs": [
    {
     "name": "stdout",
     "output_type": "stream",
     "text": [
      "+---+-----+-------+\n",
      "| id| name| salary|\n",
      "+---+-----+-------+\n",
      "|  1| kunj| 400000|\n",
      "|  2|Raman|1000000|\n",
      "+---+-----+-------+\n",
      "\n"
     ]
    }
   ],
   "source": [
    "#updating values in a df\n",
    "df2 = df1.withColumn('salary',col=col('salary')*2)\n",
    "df2.show()"
   ]
  },
  {
   "cell_type": "code",
   "execution_count": 15,
   "id": "17046313",
   "metadata": {},
   "outputs": [
    {
     "name": "stdout",
     "output_type": "stream",
     "text": [
      "+---+-----+-------+-------+\n",
      "| id| name| salary|Country|\n",
      "+---+-----+-------+-------+\n",
      "|  1| kunj| 400000|  India|\n",
      "|  2|Raman|1000000|  India|\n",
      "+---+-----+-------+-------+\n",
      "\n"
     ]
    }
   ],
   "source": [
    "#adding new column\n",
    "df3 = df2.withColumn('Country',lit('India'))\n",
    "df3.show()"
   ]
  },
  {
   "cell_type": "code",
   "execution_count": 16,
   "id": "0e0cd881",
   "metadata": {},
   "outputs": [
    {
     "name": "stdout",
     "output_type": "stream",
     "text": [
      "+---+-----+-------+-------+------------+\n",
      "| id| name| salary|Country|copiedSalary|\n",
      "+---+-----+-------+-------+------------+\n",
      "|  1| kunj| 400000|  India|      400000|\n",
      "|  2|Raman|1000000|  India|     1000000|\n",
      "+---+-----+-------+-------+------------+\n",
      "\n"
     ]
    }
   ],
   "source": [
    "#copyting the old value from a column and paste in new column\n",
    "\n",
    "df4 = df3.withColumn('copiedSalary',col('salary'))\n",
    "df4.show()"
   ]
  },
  {
   "cell_type": "code",
   "execution_count": null,
   "id": "f0a443f1",
   "metadata": {},
   "outputs": [],
   "source": []
  }
 ],
 "metadata": {
  "kernelspec": {
   "display_name": "Python 3 (ipykernel)",
   "language": "python",
   "name": "python3"
  },
  "language_info": {
   "codemirror_mode": {
    "name": "ipython",
    "version": 3
   },
   "file_extension": ".py",
   "mimetype": "text/x-python",
   "name": "python",
   "nbconvert_exporter": "python",
   "pygments_lexer": "ipython3",
   "version": "3.9.7"
  }
 },
 "nbformat": 4,
 "nbformat_minor": 5
}
