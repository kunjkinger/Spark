{
 "cells": [
  {
   "cell_type": "code",
   "execution_count": 22,
   "id": "d9919ee4",
   "metadata": {},
   "outputs": [],
   "source": [
    "from pyspark.sql import *\n",
    "from pyspark.sql.types import *\n",
    "from pyspark.sql.functions import col,array"
   ]
  },
  {
   "cell_type": "code",
   "execution_count": 2,
   "id": "ba94bffe",
   "metadata": {},
   "outputs": [],
   "source": [
    "spark = SparkSession.builder.appName(\"array type column\").getOrCreate()"
   ]
  },
  {
   "cell_type": "code",
   "execution_count": 16,
   "id": "c4256331",
   "metadata": {},
   "outputs": [
    {
     "name": "stdout",
     "output_type": "stream",
     "text": [
      "+---+-------+\n",
      "| id|numbers|\n",
      "+---+-------+\n",
      "|abc| [1, 2]|\n",
      "|mno| [4, 5]|\n",
      "|xyz| [7, 8]|\n",
      "+---+-------+\n",
      "\n",
      "root\n",
      " |-- id: string (nullable = true)\n",
      " |-- numbers: array (nullable = true)\n",
      " |    |-- element: integer (containsNull = true)\n",
      "\n"
     ]
    }
   ],
   "source": [
    "data = [('abc',[1,2]),('mno',[4,5]),('xyz',[7,8])]\n",
    "\n",
    "schema = StructType([StructField('id',StringType()),\n",
    "                     StructField('numbers',ArrayType(IntegerType()))\n",
    "                    ])\n",
    "\n",
    "df = spark.createDataFrame(data=data,schema=schema)\n",
    "df.show()\n",
    "df.printSchema()"
   ]
  },
  {
   "cell_type": "code",
   "execution_count": 19,
   "id": "db9bb310",
   "metadata": {},
   "outputs": [
    {
     "name": "stdout",
     "output_type": "stream",
     "text": [
      "+---+-------+-----------+\n",
      "| id|numbers|firstNumber|\n",
      "+---+-------+-----------+\n",
      "|abc| [1, 2]|          1|\n",
      "|mno| [4, 5]|          4|\n",
      "|xyz| [7, 8]|          7|\n",
      "+---+-------+-----------+\n",
      "\n"
     ]
    }
   ],
   "source": [
    "df1 = df.withColumn('firstNumber',col('numbers')[0])\n",
    "df1.show()"
   ]
  },
  {
   "cell_type": "code",
   "execution_count": 20,
   "id": "ee39c7f8",
   "metadata": {},
   "outputs": [
    {
     "name": "stdout",
     "output_type": "stream",
     "text": [
      "+---+-------+-----------+------------+\n",
      "| id|numbers|firstNumber|secondNumber|\n",
      "+---+-------+-----------+------------+\n",
      "|abc| [1, 2]|          1|           2|\n",
      "|mno| [4, 5]|          4|           5|\n",
      "|xyz| [7, 8]|          7|           8|\n",
      "+---+-------+-----------+------------+\n",
      "\n"
     ]
    }
   ],
   "source": [
    "df2 = df1.withColumn('secondNumber',df1.numbers[1])\n",
    "df2.show()"
   ]
  },
  {
   "cell_type": "code",
   "execution_count": 24,
   "id": "77a80b1c",
   "metadata": {},
   "outputs": [
    {
     "name": "stdout",
     "output_type": "stream",
     "text": [
      "+----+----+\n",
      "|num1|num2|\n",
      "+----+----+\n",
      "|   1|   2|\n",
      "|   3|   4|\n",
      "+----+----+\n",
      "\n",
      "+----+----+------+\n",
      "|num1|num2| array|\n",
      "+----+----+------+\n",
      "|   1|   2|[1, 2]|\n",
      "|   3|   4|[3, 4]|\n",
      "+----+----+------+\n",
      "\n"
     ]
    }
   ],
   "source": [
    "#combine 2 columns to a array\n",
    "data = [(1,2),(3,4)]\n",
    "schema = ['num1','num2']\n",
    "\n",
    "df = spark.createDataFrame(data=data,schema=schema)\n",
    "df.show()\n",
    "\n",
    "\n",
    "df1 = df.withColumn('array',array(df.num1, df.num2))\n",
    "df1.show()"
   ]
  },
  {
   "cell_type": "code",
   "execution_count": null,
   "id": "5e3dcad0",
   "metadata": {},
   "outputs": [],
   "source": []
  }
 ],
 "metadata": {
  "kernelspec": {
   "display_name": "Python 3 (ipykernel)",
   "language": "python",
   "name": "python3"
  },
  "language_info": {
   "codemirror_mode": {
    "name": "ipython",
    "version": 3
   },
   "file_extension": ".py",
   "mimetype": "text/x-python",
   "name": "python",
   "nbconvert_exporter": "python",
   "pygments_lexer": "ipython3",
   "version": "3.9.7"
  }
 },
 "nbformat": 4,
 "nbformat_minor": 5
}
