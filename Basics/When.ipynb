{
 "cells": [
  {
   "cell_type": "code",
   "execution_count": 8,
   "id": "1ce89f92",
   "metadata": {},
   "outputs": [],
   "source": [
    "from pyspark.sql import *\n",
    "from pyspark.sql.types import *\n",
    "\n",
    "from pyspark.sql.functions import *"
   ]
  },
  {
   "cell_type": "code",
   "execution_count": 9,
   "id": "eea1b8a2",
   "metadata": {},
   "outputs": [],
   "source": [
    "spark = SparkSession.builder.appName(\"WhenAndUnkown\").getOrCreate()"
   ]
  },
  {
   "cell_type": "code",
   "execution_count": 10,
   "id": "2c24e5b2",
   "metadata": {},
   "outputs": [
    {
     "name": "stdout",
     "output_type": "stream",
     "text": [
      "+---+------+------+------+\n",
      "| id|  name|gender|salary|\n",
      "+---+------+------+------+\n",
      "|  1|  kunj|     M|500000|\n",
      "|  2| Raman|     M|800000|\n",
      "|  3|  Emma|     F|200000|\n",
      "|  4|sdubfg|      |300000|\n",
      "+---+------+------+------+\n",
      "\n"
     ]
    }
   ],
   "source": [
    "data = [(1,'kunj','M','500000'),\n",
    "       (2,'Raman','M','800000'),\n",
    "       (3,'Emma','F','200000'),\n",
    "       (4,'sdubfg','','300000')]\n",
    "\n",
    "columns = ['id','name','gender','salary']\n",
    "df = spark.createDataFrame(data=data,schema=columns)\n",
    "\n",
    "df.show()\n"
   ]
  },
  {
   "cell_type": "code",
   "execution_count": 12,
   "id": "8fa0dce8",
   "metadata": {},
   "outputs": [
    {
     "name": "stdout",
     "output_type": "stream",
     "text": [
      "+---+------+------+\n",
      "| id|  name|gender|\n",
      "+---+------+------+\n",
      "|  1|  kunj|  Male|\n",
      "|  2| Raman|  Male|\n",
      "|  3|  Emma|Female|\n",
      "|  4|sdubfg|unkown|\n",
      "+---+------+------+\n",
      "\n"
     ]
    }
   ],
   "source": [
    "df1 = df.select(df.id,df.name, when(condition = df.gender == 'M',value='Male'). \\\n",
    "               when(condition = df.gender == 'F',value='Female') \\\n",
    "               .otherwise(\"unkown\").alias('gender'))\n",
    "df1.show()"
   ]
  },
  {
   "cell_type": "code",
   "execution_count": null,
   "id": "2024766d",
   "metadata": {},
   "outputs": [],
   "source": []
  },
  {
   "cell_type": "code",
   "execution_count": null,
   "id": "8ae8225e",
   "metadata": {},
   "outputs": [],
   "source": []
  }
 ],
 "metadata": {
  "kernelspec": {
   "display_name": "Python 3 (ipykernel)",
   "language": "python",
   "name": "python3"
  },
  "language_info": {
   "codemirror_mode": {
    "name": "ipython",
    "version": 3
   },
   "file_extension": ".py",
   "mimetype": "text/x-python",
   "name": "python",
   "nbconvert_exporter": "python",
   "pygments_lexer": "ipython3",
   "version": "3.9.7"
  }
 },
 "nbformat": 4,
 "nbformat_minor": 5
}
