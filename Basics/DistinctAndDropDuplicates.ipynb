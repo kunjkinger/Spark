{
 "cells": [
  {
   "cell_type": "code",
   "execution_count": 1,
   "id": "ea598224",
   "metadata": {},
   "outputs": [],
   "source": [
    "from pyspark.sql import *\n",
    "from pyspark.sql.types import *\n",
    "from pyspark.sql.functions import *"
   ]
  },
  {
   "cell_type": "code",
   "execution_count": 2,
   "id": "4ede6cc0",
   "metadata": {},
   "outputs": [],
   "source": [
    "spark = SparkSession.builder.appName(\"Distinct\").getOrCreate()"
   ]
  },
  {
   "cell_type": "code",
   "execution_count": 4,
   "id": "18090ba1",
   "metadata": {},
   "outputs": [
    {
     "name": "stdout",
     "output_type": "stream",
     "text": [
      "+---+-----+------+-------+\n",
      "| id| name|gender| salary|\n",
      "+---+-----+------+-------+\n",
      "|  1| Kunj|     M| 500000|\n",
      "|  2|Raman|     M| 800000|\n",
      "|  3| Emma|     F| 200000|\n",
      "|  3| Emma|     F| 200000|\n",
      "|  4| King|     M|1000000|\n",
      "+---+-----+------+-------+\n",
      "\n"
     ]
    }
   ],
   "source": [
    "data = [(1,'Kunj','M','500000'),\n",
    "       (2,'Raman','M','800000'),\n",
    "       (3,'Emma','F','200000'),\n",
    "        (3,'Emma','F','200000'),\n",
    "       (4,'King','M','1000000')]\n",
    "\n",
    "columns = ['id','name','gender','salary']\n",
    "df = spark.createDataFrame(data=data,schema=columns)\n",
    "\n",
    "df.show()"
   ]
  },
  {
   "cell_type": "code",
   "execution_count": 5,
   "id": "7ac1c446",
   "metadata": {},
   "outputs": [
    {
     "name": "stdout",
     "output_type": "stream",
     "text": [
      "+---+-----+------+-------+\n",
      "| id| name|gender| salary|\n",
      "+---+-----+------+-------+\n",
      "|  1| Kunj|     M| 500000|\n",
      "|  2|Raman|     M| 800000|\n",
      "|  3| Emma|     F| 200000|\n",
      "|  4| King|     M|1000000|\n",
      "+---+-----+------+-------+\n",
      "\n"
     ]
    }
   ],
   "source": [
    "df.distinct().show()"
   ]
  },
  {
   "cell_type": "code",
   "execution_count": 7,
   "id": "fdf29120",
   "metadata": {},
   "outputs": [
    {
     "name": "stdout",
     "output_type": "stream",
     "text": [
      "+---+-----+------+-------+\n",
      "| id| name|gender| salary|\n",
      "+---+-----+------+-------+\n",
      "|  3| Emma|     F| 200000|\n",
      "|  4| King|     M|1000000|\n",
      "|  1| Kunj|     M| 500000|\n",
      "|  2|Raman|     M| 800000|\n",
      "+---+-----+------+-------+\n",
      "\n"
     ]
    }
   ],
   "source": [
    "df.dropDuplicates(['name','id']).show()"
   ]
  },
  {
   "cell_type": "code",
   "execution_count": null,
   "id": "06fb6b87",
   "metadata": {},
   "outputs": [],
   "source": []
  }
 ],
 "metadata": {
  "kernelspec": {
   "display_name": "Python 3 (ipykernel)",
   "language": "python",
   "name": "python3"
  },
  "language_info": {
   "codemirror_mode": {
    "name": "ipython",
    "version": 3
   },
   "file_extension": ".py",
   "mimetype": "text/x-python",
   "name": "python",
   "nbconvert_exporter": "python",
   "pygments_lexer": "ipython3",
   "version": "3.9.7"
  }
 },
 "nbformat": 4,
 "nbformat_minor": 5
}
