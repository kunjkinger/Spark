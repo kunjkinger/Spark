{
 "cells": [
  {
   "cell_type": "code",
   "execution_count": 1,
   "id": "02679eb3",
   "metadata": {},
   "outputs": [],
   "source": [
    "from pyspark.sql import *\n",
    "from pyspark.sql.types import *"
   ]
  },
  {
   "cell_type": "code",
   "execution_count": 2,
   "id": "22a0b51c",
   "metadata": {},
   "outputs": [],
   "source": [
    "spark = SparkSession.builder.appName(\"Row\").getOrCreate()"
   ]
  },
  {
   "cell_type": "code",
   "execution_count": 6,
   "id": "1e2c54cf",
   "metadata": {},
   "outputs": [
    {
     "name": "stdout",
     "output_type": "stream",
     "text": [
      "kunj-200000\n"
     ]
    }
   ],
   "source": [
    "row = Row('kunj',200000)\n",
    "print(row[0] + '-' +str(row[1]))"
   ]
  },
  {
   "cell_type": "code",
   "execution_count": 7,
   "id": "0d0a38b1",
   "metadata": {},
   "outputs": [
    {
     "name": "stdout",
     "output_type": "stream",
     "text": [
      "kunj-200000\n"
     ]
    }
   ],
   "source": [
    "row = Row(name = 'kunj',salary = 200000)\n",
    "print(row.name + '-' +str(row.salary))"
   ]
  },
  {
   "cell_type": "code",
   "execution_count": 9,
   "id": "280b184f",
   "metadata": {},
   "outputs": [
    {
     "name": "stdout",
     "output_type": "stream",
     "text": [
      "+-----+------+\n",
      "| name|salary|\n",
      "+-----+------+\n",
      "| kunj|200000|\n",
      "|Raman|400000|\n",
      "+-----+------+\n",
      "\n",
      "root\n",
      " |-- name: string (nullable = true)\n",
      " |-- salary: long (nullable = true)\n",
      "\n"
     ]
    }
   ],
   "source": [
    "row1 = Row(name = 'kunj',salary = 200000)\n",
    "\n",
    "row2 = Row(name = 'Raman',salary = 400000)\n",
    "\n",
    "data = [row1,row2]\n",
    "\n",
    "df = spark.createDataFrame(data)\n",
    "df.show()\n",
    "df.printSchema()"
   ]
  },
  {
   "cell_type": "code",
   "execution_count": 12,
   "id": "8fd8d41a",
   "metadata": {},
   "outputs": [
    {
     "name": "stdout",
     "output_type": "stream",
     "text": [
      "+-----+---+\n",
      "| name|age|\n",
      "+-----+---+\n",
      "| kunj| 28|\n",
      "|Raman| 31|\n",
      "+-----+---+\n",
      "\n"
     ]
    }
   ],
   "source": [
    "Person = Row('name','age')\n",
    "person1 = Person('kunj',28)\n",
    "person2 = Person('Raman',31)\n",
    "\n",
    "spark.createDataFrame([person1,person2]).show()"
   ]
  },
  {
   "cell_type": "code",
   "execution_count": null,
   "id": "d7e952db",
   "metadata": {},
   "outputs": [],
   "source": []
  }
 ],
 "metadata": {
  "kernelspec": {
   "display_name": "Python 3 (ipykernel)",
   "language": "python",
   "name": "python3"
  },
  "language_info": {
   "codemirror_mode": {
    "name": "ipython",
    "version": 3
   },
   "file_extension": ".py",
   "mimetype": "text/x-python",
   "name": "python",
   "nbconvert_exporter": "python",
   "pygments_lexer": "ipython3",
   "version": "3.9.7"
  }
 },
 "nbformat": 4,
 "nbformat_minor": 5
}
