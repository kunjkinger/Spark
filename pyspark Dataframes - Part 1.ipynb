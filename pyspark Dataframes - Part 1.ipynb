{
 "cells": [
  {
   "cell_type": "code",
   "execution_count": 1,
   "id": "05fd46c8",
   "metadata": {},
   "outputs": [],
   "source": [
    "from pyspark.sql import SparkSession"
   ]
  },
  {
   "cell_type": "code",
   "execution_count": 2,
   "id": "08b1109f",
   "metadata": {},
   "outputs": [],
   "source": [
    "spark = SparkSession.builder.appName('df_practice').getOrCreate()"
   ]
  },
  {
   "cell_type": "code",
   "execution_count": 3,
   "id": "ac2af598",
   "metadata": {},
   "outputs": [
    {
     "data": {
      "text/html": [
       "\n",
       "            <div>\n",
       "                <p><b>SparkSession - in-memory</b></p>\n",
       "                \n",
       "        <div>\n",
       "            <p><b>SparkContext</b></p>\n",
       "\n",
       "            <p><a href=\"http://DESKTOP-MOJ2HS0:4041\">Spark UI</a></p>\n",
       "\n",
       "            <dl>\n",
       "              <dt>Version</dt>\n",
       "                <dd><code>v3.2.2</code></dd>\n",
       "              <dt>Master</dt>\n",
       "                <dd><code>local[*]</code></dd>\n",
       "              <dt>AppName</dt>\n",
       "                <dd><code>df_practice</code></dd>\n",
       "            </dl>\n",
       "        </div>\n",
       "        \n",
       "            </div>\n",
       "        "
      ],
      "text/plain": [
       "<pyspark.sql.session.SparkSession at 0x2bafa4e2dc8>"
      ]
     },
     "execution_count": 3,
     "metadata": {},
     "output_type": "execute_result"
    }
   ],
   "source": [
    "spark"
   ]
  },
  {
   "cell_type": "code",
   "execution_count": 4,
   "id": "c2445f78",
   "metadata": {},
   "outputs": [],
   "source": [
    "##reading a dataset\n",
    "df_pyspark = spark.read.option('header','true').csv('annual.csv',inferSchema=True) \n",
    "#inferschema is to tell about datatypes otherwise everything will be string"
   ]
  },
  {
   "cell_type": "code",
   "execution_count": 5,
   "id": "07b90432",
   "metadata": {},
   "outputs": [
    {
     "name": "stdout",
     "output_type": "stream",
     "text": [
      "root\n",
      " |-- Year: integer (nullable = true)\n",
      " |-- Industry_aggregation_NZSIOC: string (nullable = true)\n",
      " |-- Industry_code_NZSIOC: string (nullable = true)\n",
      " |-- Industry_name_NZSIOC: string (nullable = true)\n",
      " |-- Units: string (nullable = true)\n",
      " |-- Variable_code: string (nullable = true)\n",
      " |-- Variable_name: string (nullable = true)\n",
      " |-- Variable_category: string (nullable = true)\n",
      " |-- Value: string (nullable = true)\n",
      " |-- Industry_code_ANZSIC06: string (nullable = true)\n",
      "\n"
     ]
    }
   ],
   "source": [
    "df_pyspark.printSchema()"
   ]
  },
  {
   "cell_type": "code",
   "execution_count": 6,
   "id": "292a8e5a",
   "metadata": {},
   "outputs": [
    {
     "name": "stdout",
     "output_type": "stream",
     "text": [
      "+----+---------------------------+--------------------+--------------------+------------------+-------------+--------------------+--------------------+-------+----------------------+\n",
      "|Year|Industry_aggregation_NZSIOC|Industry_code_NZSIOC|Industry_name_NZSIOC|             Units|Variable_code|       Variable_name|   Variable_category|  Value|Industry_code_ANZSIC06|\n",
      "+----+---------------------------+--------------------+--------------------+------------------+-------------+--------------------+--------------------+-------+----------------------+\n",
      "|2021|                    Level 1|               99999|      All industries|Dollars (millions)|          H01|        Total income|Financial perform...|757,504|  ANZSIC06 division...|\n",
      "|2021|                    Level 1|               99999|      All industries|Dollars (millions)|          H04|Sales, government...|Financial perform...|674,890|  ANZSIC06 division...|\n",
      "|2021|                    Level 1|               99999|      All industries|Dollars (millions)|          H05|Interest, dividen...|Financial perform...| 49,593|  ANZSIC06 division...|\n",
      "|2021|                    Level 1|               99999|      All industries|Dollars (millions)|          H07|Non-operating income|Financial perform...| 33,020|  ANZSIC06 division...|\n",
      "+----+---------------------------+--------------------+--------------------+------------------+-------------+--------------------+--------------------+-------+----------------------+\n",
      "only showing top 4 rows\n",
      "\n"
     ]
    }
   ],
   "source": [
    "df_pyspark=spark.read.csv('annual.csv',header=True,inferSchema=True)\n",
    "df_pyspark.show(4)"
   ]
  },
  {
   "cell_type": "code",
   "execution_count": 7,
   "id": "c3b2599e",
   "metadata": {},
   "outputs": [
    {
     "name": "stdout",
     "output_type": "stream",
     "text": [
      "root\n",
      " |-- Year: integer (nullable = true)\n",
      " |-- Industry_aggregation_NZSIOC: string (nullable = true)\n",
      " |-- Industry_code_NZSIOC: string (nullable = true)\n",
      " |-- Industry_name_NZSIOC: string (nullable = true)\n",
      " |-- Units: string (nullable = true)\n",
      " |-- Variable_code: string (nullable = true)\n",
      " |-- Variable_name: string (nullable = true)\n",
      " |-- Variable_category: string (nullable = true)\n",
      " |-- Value: string (nullable = true)\n",
      " |-- Industry_code_ANZSIC06: string (nullable = true)\n",
      "\n"
     ]
    }
   ],
   "source": [
    "df_pyspark.printSchema()"
   ]
  },
  {
   "cell_type": "code",
   "execution_count": 8,
   "id": "64c39f18",
   "metadata": {},
   "outputs": [
    {
     "data": {
      "text/plain": [
       "[Row(Year=2021, Industry_aggregation_NZSIOC='Level 1', Industry_code_NZSIOC='99999', Industry_name_NZSIOC='All industries', Units='Dollars (millions)', Variable_code='H01', Variable_name='Total income', Variable_category='Financial performance', Value='757,504', Industry_code_ANZSIC06='ANZSIC06 divisions A-S (excluding classes K6330, L6711, O7552, O760, O771, O772, S9540, S9601, S9602, and S9603)'),\n",
       " Row(Year=2021, Industry_aggregation_NZSIOC='Level 1', Industry_code_NZSIOC='99999', Industry_name_NZSIOC='All industries', Units='Dollars (millions)', Variable_code='H04', Variable_name='Sales, government funding, grants and subsidies', Variable_category='Financial performance', Value='674,890', Industry_code_ANZSIC06='ANZSIC06 divisions A-S (excluding classes K6330, L6711, O7552, O760, O771, O772, S9540, S9601, S9602, and S9603)')]"
      ]
     },
     "execution_count": 8,
     "metadata": {},
     "output_type": "execute_result"
    }
   ],
   "source": [
    "df_pyspark.head(2)"
   ]
  },
  {
   "cell_type": "code",
   "execution_count": 9,
   "id": "7ca88428",
   "metadata": {},
   "outputs": [
    {
     "name": "stdout",
     "output_type": "stream",
     "text": [
      "+-------+\n",
      "|  Value|\n",
      "+-------+\n",
      "|757,504|\n",
      "|674,890|\n",
      "+-------+\n",
      "only showing top 2 rows\n",
      "\n"
     ]
    }
   ],
   "source": [
    "df_pyspark.select('Value').show(2)"
   ]
  },
  {
   "cell_type": "code",
   "execution_count": 10,
   "id": "68cfa847",
   "metadata": {},
   "outputs": [
    {
     "name": "stdout",
     "output_type": "stream",
     "text": [
      "+-------+------------------+\n",
      "|  Value|             Units|\n",
      "+-------+------------------+\n",
      "|757,504|Dollars (millions)|\n",
      "|674,890|Dollars (millions)|\n",
      "+-------+------------------+\n",
      "only showing top 2 rows\n",
      "\n"
     ]
    }
   ],
   "source": [
    "df_pyspark.select(['Value','Units']).show(2)"
   ]
  },
  {
   "cell_type": "code",
   "execution_count": 11,
   "id": "53b45ac0",
   "metadata": {},
   "outputs": [
    {
     "data": {
      "text/plain": [
       "Column<'Value'>"
      ]
     },
     "execution_count": 11,
     "metadata": {},
     "output_type": "execute_result"
    }
   ],
   "source": [
    "df_pyspark['Value']"
   ]
  },
  {
   "cell_type": "code",
   "execution_count": 12,
   "id": "add9d3e1",
   "metadata": {},
   "outputs": [
    {
     "data": {
      "text/plain": [
       "[('Year', 'int'),\n",
       " ('Industry_aggregation_NZSIOC', 'string'),\n",
       " ('Industry_code_NZSIOC', 'string'),\n",
       " ('Industry_name_NZSIOC', 'string'),\n",
       " ('Units', 'string'),\n",
       " ('Variable_code', 'string'),\n",
       " ('Variable_name', 'string'),\n",
       " ('Variable_category', 'string'),\n",
       " ('Value', 'string'),\n",
       " ('Industry_code_ANZSIC06', 'string')]"
      ]
     },
     "execution_count": 12,
     "metadata": {},
     "output_type": "execute_result"
    }
   ],
   "source": [
    "df_pyspark.dtypes"
   ]
  },
  {
   "cell_type": "code",
   "execution_count": 13,
   "id": "74317e2f",
   "metadata": {},
   "outputs": [
    {
     "name": "stdout",
     "output_type": "stream",
     "text": [
      "+-------+------------------+---------------------------+--------------------+--------------------+----------+-------------+--------------------+--------------------+------------------+----------------------+\n",
      "|summary|              Year|Industry_aggregation_NZSIOC|Industry_code_NZSIOC|Industry_name_NZSIOC|     Units|Variable_code|       Variable_name|   Variable_category|             Value|Industry_code_ANZSIC06|\n",
      "+-------+------------------+---------------------------+--------------------+--------------------+----------+-------------+--------------------+--------------------+------------------+----------------------+\n",
      "|  count|             41715|                      41715|               41715|               41715|     41715|        41715|               41715|               41715|             41715|                 41715|\n",
      "|   mean|            2017.0|                       null|             99999.0|                null|      null|         null|                null|                null| 190.8764624317532|                  null|\n",
      "| stddev|2.5820198459941994|                       null|                 0.0|                null|      null|         null|                null|                null|247.29135541780568|                  null|\n",
      "|    min|              2013|                    Level 1|               99999|       Accommodation|   Dollars|          H01|Additions to fixe...|Financial perform...|                -1|   ANZSIC06 Group F380|\n",
      "|    max|              2021|                    Level 4|                ZZ11|Wood Product Manu...|Percentage|          H41|Total income per ...|    Financial ratios|                 S|  ANZSIC06 groups S...|\n",
      "+-------+------------------+---------------------------+--------------------+--------------------+----------+-------------+--------------------+--------------------+------------------+----------------------+\n",
      "\n"
     ]
    }
   ],
   "source": [
    "df_pyspark.describe().show()"
   ]
  },
  {
   "cell_type": "code",
   "execution_count": 14,
   "id": "efcfa4dd",
   "metadata": {},
   "outputs": [],
   "source": [
    "##adding columns\n",
    "\n",
    "df_pyspark=df_pyspark.withColumn('Value After 2 years', df_pyspark['Year']+2)"
   ]
  },
  {
   "cell_type": "code",
   "execution_count": 15,
   "id": "0ab13db6",
   "metadata": {},
   "outputs": [],
   "source": [
    "##dropping the columns\n",
    "\n",
    "df_pyspark= df_pyspark.drop('Value After 2 years')"
   ]
  },
  {
   "cell_type": "code",
   "execution_count": 16,
   "id": "d04a6ffc",
   "metadata": {},
   "outputs": [
    {
     "data": {
      "text/plain": [
       "['Year',\n",
       " 'Industry_aggregation_NZSIOC',\n",
       " 'Industry_code_NZSIOC',\n",
       " 'Industry_name_NZSIOC',\n",
       " 'Units',\n",
       " 'Variable_code',\n",
       " 'Variable_name',\n",
       " 'Variable_category',\n",
       " 'Value',\n",
       " 'Industry_code_ANZSIC06']"
      ]
     },
     "execution_count": 16,
     "metadata": {},
     "output_type": "execute_result"
    }
   ],
   "source": [
    "df_pyspark.columns"
   ]
  },
  {
   "cell_type": "code",
   "execution_count": 19,
   "id": "ad204073",
   "metadata": {},
   "outputs": [
    {
     "name": "stdout",
     "output_type": "stream",
     "text": [
      "+----+--------+--------------------+--------------------+------------------+-------------+--------------------+--------------------+-------+----------------------+\n",
      "|Year|Industry|Industry_code_NZSIOC|Industry_name_NZSIOC|             Units|Variable_code|       Variable_name|   Variable_category|  Value|Industry_code_ANZSIC06|\n",
      "+----+--------+--------------------+--------------------+------------------+-------------+--------------------+--------------------+-------+----------------------+\n",
      "|2021| Level 1|               99999|      All industries|Dollars (millions)|          H01|        Total income|Financial perform...|757,504|  ANZSIC06 division...|\n",
      "|2021| Level 1|               99999|      All industries|Dollars (millions)|          H04|Sales, government...|Financial perform...|674,890|  ANZSIC06 division...|\n",
      "+----+--------+--------------------+--------------------+------------------+-------------+--------------------+--------------------+-------+----------------------+\n",
      "only showing top 2 rows\n",
      "\n"
     ]
    }
   ],
   "source": [
    "##renaming the columns\n",
    "df_pyspark.withColumnRenamed('Industry_aggregation_NZSIOC','Industry').show(2)"
   ]
  },
  {
   "cell_type": "code",
   "execution_count": null,
   "id": "314e4010",
   "metadata": {},
   "outputs": [],
   "source": []
  }
 ],
 "metadata": {
  "kernelspec": {
   "display_name": "Python 3",
   "language": "python",
   "name": "python3"
  },
  "language_info": {
   "codemirror_mode": {
    "name": "ipython",
    "version": 3
   },
   "file_extension": ".py",
   "mimetype": "text/x-python",
   "name": "python",
   "nbconvert_exporter": "python",
   "pygments_lexer": "ipython3",
   "version": "3.7.9"
  }
 },
 "nbformat": 4,
 "nbformat_minor": 5
}
