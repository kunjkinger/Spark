{
 "cells": [
  {
   "cell_type": "code",
   "execution_count": 1,
   "id": "69303f6d",
   "metadata": {},
   "outputs": [],
   "source": [
    "import os\n",
    "import sys\n",
    "\n",
    "os.environ['PYSPARK_PYTHON'] = sys.executable\n",
    "os.environ['PYSPARK_DRIVER_PYTHON'] = sys.executable"
   ]
  },
  {
   "cell_type": "code",
   "execution_count": 2,
   "id": "e97fbfaf",
   "metadata": {},
   "outputs": [],
   "source": [
    "from pyspark.sql import *"
   ]
  },
  {
   "cell_type": "code",
   "execution_count": 3,
   "id": "194f2697",
   "metadata": {},
   "outputs": [],
   "source": [
    "spark = SparkSession.builder.appName(\"schem_inference\").getOrCreate()"
   ]
  },
  {
   "cell_type": "code",
   "execution_count": 4,
   "id": "91841c9b",
   "metadata": {},
   "outputs": [],
   "source": [
    "sc = spark.sparkContext"
   ]
  },
  {
   "cell_type": "code",
   "execution_count": 5,
   "id": "b418f8e5",
   "metadata": {},
   "outputs": [],
   "source": [
    "#creating RDD"
   ]
  },
  {
   "cell_type": "code",
   "execution_count": 37,
   "id": "25d953f0",
   "metadata": {},
   "outputs": [],
   "source": [
    "lines = sc.textFile('people.txt')"
   ]
  },
  {
   "cell_type": "code",
   "execution_count": 38,
   "id": "518add4d",
   "metadata": {},
   "outputs": [
    {
     "data": {
      "text/plain": [
       "['raman,32', 'kunj,28', 'emma,32']"
      ]
     },
     "execution_count": 38,
     "metadata": {},
     "output_type": "execute_result"
    }
   ],
   "source": [
    "lines.top(3)"
   ]
  },
  {
   "cell_type": "code",
   "execution_count": 39,
   "id": "3e661027",
   "metadata": {},
   "outputs": [
    {
     "data": {
      "text/plain": [
       "['kunj,28', 'emma,32']"
      ]
     },
     "execution_count": 39,
     "metadata": {},
     "output_type": "execute_result"
    }
   ],
   "source": [
    "lines.take(2)"
   ]
  },
  {
   "cell_type": "code",
   "execution_count": 40,
   "id": "00cc78d5",
   "metadata": {},
   "outputs": [],
   "source": [
    "# def word_count(text):\n",
    "#     return len(text.split())\n",
    "parts = lines.map(lambda l: l.split(\",\"))"
   ]
  },
  {
   "cell_type": "code",
   "execution_count": 42,
   "id": "17f84677",
   "metadata": {},
   "outputs": [
    {
     "data": {
      "text/plain": [
       "[['raman', '32'], ['kunj', '28']]"
      ]
     },
     "execution_count": 42,
     "metadata": {},
     "output_type": "execute_result"
    }
   ],
   "source": [
    "#wordcount_udf = lines.map(lambda x: Row(words =x, length=int(word_count(x))))\n",
    "parts.top(2)"
   ]
  },
  {
   "cell_type": "code",
   "execution_count": 43,
   "id": "430426fd",
   "metadata": {},
   "outputs": [],
   "source": [
    "people = parts.map(lambda p: Row(name=p[0], age=int(p[1])))"
   ]
  },
  {
   "cell_type": "code",
   "execution_count": 44,
   "id": "44bb7123",
   "metadata": {},
   "outputs": [
    {
     "data": {
      "text/plain": [
       "[Row(name='raman', age=32), Row(name='kunj', age=28)]"
      ]
     },
     "execution_count": 44,
     "metadata": {},
     "output_type": "execute_result"
    }
   ],
   "source": [
    "people.top(2)"
   ]
  },
  {
   "cell_type": "code",
   "execution_count": 35,
   "id": "6ae84c05",
   "metadata": {},
   "outputs": [],
   "source": [
    "##infer the schema automatically and register the dataframe as a table"
   ]
  },
  {
   "cell_type": "code",
   "execution_count": 46,
   "id": "c11568db",
   "metadata": {},
   "outputs": [],
   "source": [
    "schemaPeople = spark.createDataFrame(people)"
   ]
  },
  {
   "cell_type": "code",
   "execution_count": 49,
   "id": "c1647836",
   "metadata": {},
   "outputs": [
    {
     "name": "stdout",
     "output_type": "stream",
     "text": [
      "+---------+---+\n",
      "|     name|age|\n",
      "+---------+---+\n",
      "|     kunj| 28|\n",
      "|     emma| 32|\n",
      "|    raman| 32|\n",
      "|akarshika| 30|\n",
      "+---------+---+\n",
      "\n"
     ]
    }
   ],
   "source": [
    "schemaPeople.show()"
   ]
  },
  {
   "cell_type": "code",
   "execution_count": 48,
   "id": "22c9ed21",
   "metadata": {},
   "outputs": [],
   "source": [
    "schemaPeople.createOrReplaceTempView(\"people\")"
   ]
  },
  {
   "cell_type": "code",
   "execution_count": null,
   "id": "d1cb75c6",
   "metadata": {},
   "outputs": [],
   "source": []
  }
 ],
 "metadata": {
  "kernelspec": {
   "display_name": "Python 3 (ipykernel)",
   "language": "python",
   "name": "python3"
  },
  "language_info": {
   "codemirror_mode": {
    "name": "ipython",
    "version": 3
   },
   "file_extension": ".py",
   "mimetype": "text/x-python",
   "name": "python",
   "nbconvert_exporter": "python",
   "pygments_lexer": "ipython3",
   "version": "3.9.7"
  }
 },
 "nbformat": 4,
 "nbformat_minor": 5
}
