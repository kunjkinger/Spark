{
 "cells": [
  {
   "cell_type": "code",
   "execution_count": 1,
   "id": "ccee2c2b",
   "metadata": {},
   "outputs": [],
   "source": [
    "from pyspark.sql import SparkSession"
   ]
  },
  {
   "cell_type": "code",
   "execution_count": 2,
   "id": "a35bd02f",
   "metadata": {},
   "outputs": [],
   "source": [
    "spark = SparkSession.builder.appName('Missing Values').getOrCreate()"
   ]
  },
  {
   "cell_type": "code",
   "execution_count": 3,
   "id": "05d7a839",
   "metadata": {},
   "outputs": [],
   "source": [
    "df_pyspark = spark.read.option('header','True').csv('test.csv',inferSchema=True)"
   ]
  },
  {
   "cell_type": "code",
   "execution_count": 4,
   "id": "1cc55aab",
   "metadata": {},
   "outputs": [
    {
     "name": "stdout",
     "output_type": "stream",
     "text": [
      "+---------+---------+----------+-----+\n",
      "|     Name|   Salary|Experience|  Age|\n",
      "+---------+---------+----------+-----+\n",
      "|     kunj|    54154|        45|  454|\n",
      "|     emma|    53454|       546| null|\n",
      "|    raman|    44546|       465|   45|\n",
      "|    madhu|     null|       546| 4556|\n",
      "|   sanjay|546545646|      null| 5456|\n",
      "|akarshika|    54645|        54|54785|\n",
      "|     null|     null|      null|45654|\n",
      "+---------+---------+----------+-----+\n",
      "\n"
     ]
    }
   ],
   "source": [
    "df_pyspark.show()"
   ]
  },
  {
   "cell_type": "code",
   "execution_count": 5,
   "id": "6977920c",
   "metadata": {},
   "outputs": [
    {
     "name": "stdout",
     "output_type": "stream",
     "text": [
      "+---------+------+----------+-----+\n",
      "|     Name|Salary|Experience|  Age|\n",
      "+---------+------+----------+-----+\n",
      "|     kunj| 54154|        45|  454|\n",
      "|    raman| 44546|       465|   45|\n",
      "|akarshika| 54645|        54|54785|\n",
      "+---------+------+----------+-----+\n",
      "\n"
     ]
    }
   ],
   "source": [
    "df_pyspark.na.drop().show() #drop where the nan value exxists "
   ]
  },
  {
   "cell_type": "code",
   "execution_count": 6,
   "id": "4e117797",
   "metadata": {},
   "outputs": [
    {
     "name": "stdout",
     "output_type": "stream",
     "text": [
      "+---------+---------+----------+-----+\n",
      "|     Name|   Salary|Experience|  Age|\n",
      "+---------+---------+----------+-----+\n",
      "|     kunj|    54154|        45|  454|\n",
      "|     emma|    53454|       546| null|\n",
      "|    raman|    44546|       465|   45|\n",
      "|    madhu|     null|       546| 4556|\n",
      "|   sanjay|546545646|      null| 5456|\n",
      "|akarshika|    54645|        54|54785|\n",
      "|     null|     null|      null|45654|\n",
      "+---------+---------+----------+-----+\n",
      "\n"
     ]
    }
   ],
   "source": [
    "##any = how\n",
    "df_pyspark.na.drop(how='all').show() # means if all the values are null in a row than drop"
   ]
  },
  {
   "cell_type": "code",
   "execution_count": 7,
   "id": "fa7acba3",
   "metadata": {},
   "outputs": [
    {
     "name": "stdout",
     "output_type": "stream",
     "text": [
      "+---------+------+----------+-----+\n",
      "|     Name|Salary|Experience|  Age|\n",
      "+---------+------+----------+-----+\n",
      "|     kunj| 54154|        45|  454|\n",
      "|    raman| 44546|       465|   45|\n",
      "|akarshika| 54645|        54|54785|\n",
      "+---------+------+----------+-----+\n",
      "\n"
     ]
    }
   ],
   "source": [
    "df_pyspark.na.drop(how='any').show() # if any value is null in a row than drop"
   ]
  },
  {
   "cell_type": "code",
   "execution_count": 8,
   "id": "5cd975b5",
   "metadata": {},
   "outputs": [
    {
     "name": "stdout",
     "output_type": "stream",
     "text": [
      "+---------+---------+----------+-----+\n",
      "|     Name|   Salary|Experience|  Age|\n",
      "+---------+---------+----------+-----+\n",
      "|     kunj|    54154|        45|  454|\n",
      "|     emma|    53454|       546| null|\n",
      "|    raman|    44546|       465|   45|\n",
      "|    madhu|     null|       546| 4556|\n",
      "|   sanjay|546545646|      null| 5456|\n",
      "|akarshika|    54645|        54|54785|\n",
      "+---------+---------+----------+-----+\n",
      "\n"
     ]
    }
   ],
   "source": [
    "df_pyspark.na.drop(how='any',thresh=2).show() # if atleast 2 nan values than drop"
   ]
  },
  {
   "cell_type": "code",
   "execution_count": 9,
   "id": "b0cd8383",
   "metadata": {},
   "outputs": [
    {
     "name": "stdout",
     "output_type": "stream",
     "text": [
      "+---------+---------+----------+-----+\n",
      "|     Name|   Salary|Experience|  Age|\n",
      "+---------+---------+----------+-----+\n",
      "|     kunj|    54154|        45|  454|\n",
      "|    raman|    44546|       465|   45|\n",
      "|    madhu|     null|       546| 4556|\n",
      "|   sanjay|546545646|      null| 5456|\n",
      "|akarshika|    54645|        54|54785|\n",
      "|     null|     null|      null|45654|\n",
      "+---------+---------+----------+-----+\n",
      "\n"
     ]
    }
   ],
   "source": [
    "df_pyspark.na.drop(subset=['Age']).show()"
   ]
  },
  {
   "cell_type": "code",
   "execution_count": 10,
   "id": "39745a5d",
   "metadata": {},
   "outputs": [
    {
     "name": "stdout",
     "output_type": "stream",
     "text": [
      "+-------------+---------+----------+-----+\n",
      "|         Name|   Salary|Experience|  Age|\n",
      "+-------------+---------+----------+-----+\n",
      "|         kunj|    54154|        45|  454|\n",
      "|         emma|    53454|       546| null|\n",
      "|        raman|    44546|       465|   45|\n",
      "|        madhu|     null|       546| 4556|\n",
      "|       sanjay|546545646|      null| 5456|\n",
      "|    akarshika|    54645|        54|54785|\n",
      "|Missing Value|     null|      null|45654|\n",
      "+-------------+---------+----------+-----+\n",
      "\n"
     ]
    }
   ],
   "source": [
    "##fill the missing value\n",
    "df_pyspark.na.fill('Missing Value').show()"
   ]
  },
  {
   "cell_type": "code",
   "execution_count": 14,
   "id": "810ab1db",
   "metadata": {},
   "outputs": [
    {
     "name": "stdout",
     "output_type": "stream",
     "text": [
      "+-------------+---------+----------+-----+\n",
      "|         Name|   Salary|Experience|  Age|\n",
      "+-------------+---------+----------+-----+\n",
      "|         kunj|    54154|        45|  454|\n",
      "|         emma|    53454|       546| null|\n",
      "|        raman|    44546|       465|   45|\n",
      "|        madhu|     null|       546| 4556|\n",
      "|       sanjay|546545646|      null| 5456|\n",
      "|    akarshika|    54645|        54|54785|\n",
      "|Missing Value|     null|      null|45654|\n",
      "+-------------+---------+----------+-----+\n",
      "\n"
     ]
    }
   ],
   "source": [
    "df_pyspark.na.fill('Missing Value',['Age','Name']).show()"
   ]
  },
  {
   "cell_type": "code",
   "execution_count": null,
   "id": "24606dff",
   "metadata": {},
   "outputs": [],
   "source": []
  }
 ],
 "metadata": {
  "kernelspec": {
   "display_name": "Python 3",
   "language": "python",
   "name": "python3"
  },
  "language_info": {
   "codemirror_mode": {
    "name": "ipython",
    "version": 3
   },
   "file_extension": ".py",
   "mimetype": "text/x-python",
   "name": "python",
   "nbconvert_exporter": "python",
   "pygments_lexer": "ipython3",
   "version": "3.7.9"
  }
 },
 "nbformat": 4,
 "nbformat_minor": 5
}
