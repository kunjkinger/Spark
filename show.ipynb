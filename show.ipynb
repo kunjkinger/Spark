{
 "cells": [
  {
   "cell_type": "code",
   "execution_count": 1,
   "id": "19e36bea",
   "metadata": {},
   "outputs": [],
   "source": [
    "from pyspark.sql import *\n"
   ]
  },
  {
   "cell_type": "code",
   "execution_count": 2,
   "id": "1bbb002e",
   "metadata": {},
   "outputs": [],
   "source": [
    "spark = SparkSession.builder.appName(\"show\").getOrCreate()"
   ]
  },
  {
   "cell_type": "code",
   "execution_count": 3,
   "id": "01d3f117",
   "metadata": {},
   "outputs": [
    {
     "name": "stdout",
     "output_type": "stream",
     "text": [
      "+---+--------------------+\n",
      "| id|            comments|\n",
      "+---+--------------------+\n",
      "|  1|fdjhgbjdsfbghbdsn...|\n",
      "|  2|dsfbjuhbjhbabhfua...|\n",
      "|  3|fhugbjdskhfbguhbd...|\n",
      "|  4|fguidnsgiusungiun...|\n",
      "+---+--------------------+\n",
      "\n"
     ]
    }
   ],
   "source": [
    "data = [(1, \"fdjhgbjdsfbghbdsnbajngfdaag\"),\n",
    "         (2,'dsfbjuhbjhbabhfuaufnaufbanf'),\n",
    "         (3,'fhugbjdskhfbguhbdsjhbadgfgsa'),\n",
    "       (4,'fguidnsgiusungiundsiuhgisahgfdsa')]\n",
    "\n",
    "schema = ['id','comments']\n",
    "\n",
    "df = spark.createDataFrame(data=data,schema=schema)\n",
    "df.show()"
   ]
  },
  {
   "cell_type": "code",
   "execution_count": null,
   "id": "ff0d6373",
   "metadata": {},
   "outputs": [
    {
     "name": "stdout",
     "output_type": "stream",
     "text": [
      "+---+--------+\n",
      "| id|comments|\n",
      "+---+--------+\n",
      "|  1|   fd...|\n",
      "|  2|   ds...|\n",
      "+---+--------+\n",
      "only showing top 2 rows\n",
      "\n"
     ]
    }
   ],
   "source": [
    "df.show(2,truncate=5)\n",
    "df.show(2,truncate=False)\n"
   ]
  },
  {
   "cell_type": "code",
   "execution_count": null,
   "id": "1182efde",
   "metadata": {},
   "outputs": [],
   "source": []
  }
 ],
 "metadata": {
  "kernelspec": {
   "display_name": "Python 3 (ipykernel)",
   "language": "python",
   "name": "python3"
  },
  "language_info": {
   "codemirror_mode": {
    "name": "ipython",
    "version": 3
   },
   "file_extension": ".py",
   "mimetype": "text/x-python",
   "name": "python",
   "nbconvert_exporter": "python",
   "pygments_lexer": "ipython3",
   "version": "3.9.7"
  }
 },
 "nbformat": 4,
 "nbformat_minor": 5
}
